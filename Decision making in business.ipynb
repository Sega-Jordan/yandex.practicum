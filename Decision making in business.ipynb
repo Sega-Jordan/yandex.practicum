{
 "cells": [
  {
   "cell_type": "markdown",
   "id": "bba05918",
   "metadata": {},
   "source": [
    "**Контекст**\n",
    "\n",
    "Вы — аналитик крупного интернет-магазина. Вместе с отделом маркетинга вы подготовили список гипотез для увеличения выручки.\n",
    "\n",
    "Приоритизируйте гипотезы, запустите A/B-тест и проанализируйте результаты. "
   ]
  },
  {
   "cell_type": "markdown",
   "id": "92e5d144",
   "metadata": {},
   "source": [
    "**Описание данных**\n",
    "\n",
    "**Данные для первой части**\n",
    "\n",
    "Файл /datasets/hypothesis.csv.\n",
    "\n",
    "    Hypothesis — краткое описание гипотезы;\n",
    "    Reach — охват пользователей по 10-балльной шкале;\n",
    "    Impact — влияние на пользователей по 10-балльной шкале;\n",
    "    Confidence — уверенность в гипотезе по 10-балльной шкале;\n",
    "    Efforts — затраты ресурсов на проверку гипотезы по 10-балльной шкале. Чем больше значение Efforts, тем дороже проверка гипотезы.\n",
    "\n",
    "**Данные для второй части**\n",
    "\n",
    "Файл /datasets/orders.csv.\n",
    "    \n",
    "    transactionId — идентификатор заказа;\n",
    "    visitorId — идентификатор пользователя, совершившего заказ;\n",
    "    date — дата, когда был совершён заказ;\n",
    "    revenue — выручка заказа;\n",
    "    group — группа A/B-теста, в которую попал заказ.\n",
    "\n",
    "Файл /datasets/visitors.csv.\n",
    "\n",
    "    date — дата;\n",
    "    group — группа A/B-теста;\n",
    "    visitors — количество пользователей в указанную дату в указанной группе A/B-теста"
   ]
  },
  {
   "cell_type": "markdown",
   "id": "b7774392",
   "metadata": {},
   "source": [
    "## Часть 1. Приоритизация гипотез."
   ]
  },
  {
   "cell_type": "code",
   "execution_count": 1,
   "id": "2be94d2f",
   "metadata": {},
   "outputs": [],
   "source": [
    "import pandas as pd"
   ]
  },
  {
   "cell_type": "code",
   "execution_count": 2,
   "id": "a8574ecf",
   "metadata": {},
   "outputs": [],
   "source": [
    "# оборачиваем в конструкцию для запуска локально или с платформы Яндекса\n",
    "try:\n",
    "    data = (pd.read_csv('https://code.s3.yandex.net/datasets/hypothesis.csv'))\n",
    "except:\n",
    "    data = (pd.read_csv('/datasets/hypothesis.csv'))"
   ]
  },
  {
   "cell_type": "code",
   "execution_count": 3,
   "id": "592bacb1",
   "metadata": {
    "scrolled": false
   },
   "outputs": [
    {
     "name": "stdout",
     "output_type": "stream",
     "text": [
      "                                          Hypothesis  Reach  Impact  \\\n",
      "0  Добавить два новых канала привлечения трафика,...      3      10   \n",
      "1  Запустить собственную службу доставки, что сок...      2       5   \n",
      "2  Добавить блоки рекомендаций товаров на сайт ин...      8       3   \n",
      "3  Изменить структура категорий, что увеличит кон...      8       3   \n",
      "4  Изменить цвет фона главной страницы, чтобы уве...      3       1   \n",
      "5  Добавить страницу отзывов клиентов о магазине,...      3       2   \n",
      "6  Показать на главной странице баннеры с актуаль...      5       3   \n",
      "7  Добавить форму подписки на все основные страни...     10       7   \n",
      "8  Запустить акцию, дающую скидку на товар в день...      1       9   \n",
      "\n",
      "   Confidence  Efforts  \n",
      "0           8        6  \n",
      "1           4       10  \n",
      "2           7        3  \n",
      "3           3        8  \n",
      "4           1        1  \n",
      "5           2        3  \n",
      "6           8        3  \n",
      "7           8        5  \n",
      "8           9        5   \n",
      "\n",
      "Index(['hypothesis', 'reach', 'impact', 'confidence', 'efforts'], dtype='object')\n"
     ]
    }
   ],
   "source": [
    "print(data, '\\n')\n",
    "\n",
    "# приводим названия столбцов к нижнему регистру\n",
    "data.columns = data.columns.str.lower()\n",
    "\n",
    "print(data.columns)"
   ]
  },
  {
   "cell_type": "markdown",
   "id": "d5ad0702",
   "metadata": {},
   "source": [
    "### Примените фреймворк ICE для приоритизации гипотез. Отсортируйте их по убыванию приоритета."
   ]
  },
  {
   "cell_type": "code",
   "execution_count": 4,
   "id": "ec34b675",
   "metadata": {},
   "outputs": [
    {
     "data": {
      "text/html": [
       "<div>\n",
       "<style scoped>\n",
       "    .dataframe tbody tr th:only-of-type {\n",
       "        vertical-align: middle;\n",
       "    }\n",
       "\n",
       "    .dataframe tbody tr th {\n",
       "        vertical-align: top;\n",
       "    }\n",
       "\n",
       "    .dataframe thead th {\n",
       "        text-align: right;\n",
       "    }\n",
       "</style>\n",
       "<table border=\"1\" class=\"dataframe\">\n",
       "  <thead>\n",
       "    <tr style=\"text-align: right;\">\n",
       "      <th></th>\n",
       "      <th>hypothesis</th>\n",
       "      <th>ICE</th>\n",
       "      <th>ICE_rank</th>\n",
       "    </tr>\n",
       "  </thead>\n",
       "  <tbody>\n",
       "    <tr>\n",
       "      <th>8</th>\n",
       "      <td>Запустить акцию, дающую скидку на товар в день рождения</td>\n",
       "      <td>16.2</td>\n",
       "      <td>1.0</td>\n",
       "    </tr>\n",
       "    <tr>\n",
       "      <th>0</th>\n",
       "      <td>Добавить два новых канала привлечения трафика, что позволит привлекать на 30% больше пользователей</td>\n",
       "      <td>13.3</td>\n",
       "      <td>2.0</td>\n",
       "    </tr>\n",
       "    <tr>\n",
       "      <th>7</th>\n",
       "      <td>Добавить форму подписки на все основные страницы, чтобы собрать базу клиентов для email-рассылок</td>\n",
       "      <td>11.2</td>\n",
       "      <td>3.0</td>\n",
       "    </tr>\n",
       "    <tr>\n",
       "      <th>6</th>\n",
       "      <td>Показать на главной странице баннеры с актуальными акциями и распродажами, чтобы увеличить конверсию</td>\n",
       "      <td>8.0</td>\n",
       "      <td>4.0</td>\n",
       "    </tr>\n",
       "    <tr>\n",
       "      <th>2</th>\n",
       "      <td>Добавить блоки рекомендаций товаров на сайт интернет магазина, чтобы повысить конверсию и средний чек заказа</td>\n",
       "      <td>7.0</td>\n",
       "      <td>5.0</td>\n",
       "    </tr>\n",
       "    <tr>\n",
       "      <th>1</th>\n",
       "      <td>Запустить собственную службу доставки, что сократит срок доставки заказов</td>\n",
       "      <td>2.0</td>\n",
       "      <td>6.0</td>\n",
       "    </tr>\n",
       "    <tr>\n",
       "      <th>5</th>\n",
       "      <td>Добавить страницу отзывов клиентов о магазине, что позволит увеличить количество заказов</td>\n",
       "      <td>1.3</td>\n",
       "      <td>7.0</td>\n",
       "    </tr>\n",
       "    <tr>\n",
       "      <th>3</th>\n",
       "      <td>Изменить структура категорий, что увеличит конверсию, т.к. пользователи быстрее найдут нужный товар</td>\n",
       "      <td>1.1</td>\n",
       "      <td>8.0</td>\n",
       "    </tr>\n",
       "    <tr>\n",
       "      <th>4</th>\n",
       "      <td>Изменить цвет фона главной страницы, чтобы увеличить вовлеченность пользователей</td>\n",
       "      <td>1.0</td>\n",
       "      <td>9.0</td>\n",
       "    </tr>\n",
       "  </tbody>\n",
       "</table>\n",
       "</div>"
      ],
      "text/plain": [
       "                                                                                                     hypothesis  \\\n",
       "8                                                       Запустить акцию, дающую скидку на товар в день рождения   \n",
       "0            Добавить два новых канала привлечения трафика, что позволит привлекать на 30% больше пользователей   \n",
       "7              Добавить форму подписки на все основные страницы, чтобы собрать базу клиентов для email-рассылок   \n",
       "6          Показать на главной странице баннеры с актуальными акциями и распродажами, чтобы увеличить конверсию   \n",
       "2  Добавить блоки рекомендаций товаров на сайт интернет магазина, чтобы повысить конверсию и средний чек заказа   \n",
       "1                                     Запустить собственную службу доставки, что сократит срок доставки заказов   \n",
       "5                      Добавить страницу отзывов клиентов о магазине, что позволит увеличить количество заказов   \n",
       "3           Изменить структура категорий, что увеличит конверсию, т.к. пользователи быстрее найдут нужный товар   \n",
       "4                              Изменить цвет фона главной страницы, чтобы увеличить вовлеченность пользователей   \n",
       "\n",
       "    ICE  ICE_rank  \n",
       "8  16.2       1.0  \n",
       "0  13.3       2.0  \n",
       "7  11.2       3.0  \n",
       "6   8.0       4.0  \n",
       "2   7.0       5.0  \n",
       "1   2.0       6.0  \n",
       "5   1.3       7.0  \n",
       "3   1.1       8.0  \n",
       "4   1.0       9.0  "
      ]
     },
     "execution_count": 4,
     "metadata": {},
     "output_type": "execute_result"
    }
   ],
   "source": [
    "pd.set_option('display.max_colwidth', None)\n",
    "data['ICE'] = ((data['impact'] * data['confidence']) / data['efforts']).round(1)\n",
    "data['ICE_rank'] = data['ICE'].rank(ascending= False)\n",
    "data[['hypothesis', 'ICE', 'ICE_rank']].sort_values(by='ICE', ascending=False)"
   ]
  },
  {
   "cell_type": "markdown",
   "id": "b9dd334e",
   "metadata": {},
   "source": [
    "### Примените фреймворк RICE для приоритизации гипотез. Отсортируйте их по убыванию приоритета."
   ]
  },
  {
   "cell_type": "code",
   "execution_count": 5,
   "id": "7fb7d1f7",
   "metadata": {},
   "outputs": [
    {
     "data": {
      "text/html": [
       "<div>\n",
       "<style scoped>\n",
       "    .dataframe tbody tr th:only-of-type {\n",
       "        vertical-align: middle;\n",
       "    }\n",
       "\n",
       "    .dataframe tbody tr th {\n",
       "        vertical-align: top;\n",
       "    }\n",
       "\n",
       "    .dataframe thead th {\n",
       "        text-align: right;\n",
       "    }\n",
       "</style>\n",
       "<table border=\"1\" class=\"dataframe\">\n",
       "  <thead>\n",
       "    <tr style=\"text-align: right;\">\n",
       "      <th></th>\n",
       "      <th>hypothesis</th>\n",
       "      <th>RICE</th>\n",
       "      <th>RICE_rank</th>\n",
       "    </tr>\n",
       "  </thead>\n",
       "  <tbody>\n",
       "    <tr>\n",
       "      <th>7</th>\n",
       "      <td>Добавить форму подписки на все основные страницы, чтобы собрать базу клиентов для email-рассылок</td>\n",
       "      <td>112.0</td>\n",
       "      <td>1.0</td>\n",
       "    </tr>\n",
       "    <tr>\n",
       "      <th>2</th>\n",
       "      <td>Добавить блоки рекомендаций товаров на сайт интернет магазина, чтобы повысить конверсию и средний чек заказа</td>\n",
       "      <td>56.0</td>\n",
       "      <td>2.0</td>\n",
       "    </tr>\n",
       "    <tr>\n",
       "      <th>0</th>\n",
       "      <td>Добавить два новых канала привлечения трафика, что позволит привлекать на 30% больше пользователей</td>\n",
       "      <td>40.0</td>\n",
       "      <td>3.5</td>\n",
       "    </tr>\n",
       "    <tr>\n",
       "      <th>6</th>\n",
       "      <td>Показать на главной странице баннеры с актуальными акциями и распродажами, чтобы увеличить конверсию</td>\n",
       "      <td>40.0</td>\n",
       "      <td>3.5</td>\n",
       "    </tr>\n",
       "    <tr>\n",
       "      <th>8</th>\n",
       "      <td>Запустить акцию, дающую скидку на товар в день рождения</td>\n",
       "      <td>16.2</td>\n",
       "      <td>5.0</td>\n",
       "    </tr>\n",
       "    <tr>\n",
       "      <th>3</th>\n",
       "      <td>Изменить структура категорий, что увеличит конверсию, т.к. пользователи быстрее найдут нужный товар</td>\n",
       "      <td>9.0</td>\n",
       "      <td>6.0</td>\n",
       "    </tr>\n",
       "    <tr>\n",
       "      <th>1</th>\n",
       "      <td>Запустить собственную службу доставки, что сократит срок доставки заказов</td>\n",
       "      <td>4.0</td>\n",
       "      <td>7.5</td>\n",
       "    </tr>\n",
       "    <tr>\n",
       "      <th>5</th>\n",
       "      <td>Добавить страницу отзывов клиентов о магазине, что позволит увеличить количество заказов</td>\n",
       "      <td>4.0</td>\n",
       "      <td>7.5</td>\n",
       "    </tr>\n",
       "    <tr>\n",
       "      <th>4</th>\n",
       "      <td>Изменить цвет фона главной страницы, чтобы увеличить вовлеченность пользователей</td>\n",
       "      <td>3.0</td>\n",
       "      <td>9.0</td>\n",
       "    </tr>\n",
       "  </tbody>\n",
       "</table>\n",
       "</div>"
      ],
      "text/plain": [
       "                                                                                                     hypothesis  \\\n",
       "7              Добавить форму подписки на все основные страницы, чтобы собрать базу клиентов для email-рассылок   \n",
       "2  Добавить блоки рекомендаций товаров на сайт интернет магазина, чтобы повысить конверсию и средний чек заказа   \n",
       "0            Добавить два новых канала привлечения трафика, что позволит привлекать на 30% больше пользователей   \n",
       "6          Показать на главной странице баннеры с актуальными акциями и распродажами, чтобы увеличить конверсию   \n",
       "8                                                       Запустить акцию, дающую скидку на товар в день рождения   \n",
       "3           Изменить структура категорий, что увеличит конверсию, т.к. пользователи быстрее найдут нужный товар   \n",
       "1                                     Запустить собственную службу доставки, что сократит срок доставки заказов   \n",
       "5                      Добавить страницу отзывов клиентов о магазине, что позволит увеличить количество заказов   \n",
       "4                              Изменить цвет фона главной страницы, чтобы увеличить вовлеченность пользователей   \n",
       "\n",
       "    RICE  RICE_rank  \n",
       "7  112.0        1.0  \n",
       "2   56.0        2.0  \n",
       "0   40.0        3.5  \n",
       "6   40.0        3.5  \n",
       "8   16.2        5.0  \n",
       "3    9.0        6.0  \n",
       "1    4.0        7.5  \n",
       "5    4.0        7.5  \n",
       "4    3.0        9.0  "
      ]
     },
     "execution_count": 5,
     "metadata": {},
     "output_type": "execute_result"
    }
   ],
   "source": [
    "data['RICE'] = (data['reach'] * data['impact'] * data['confidence']) / data['efforts']\n",
    "data['RICE_rank'] = data['RICE'].rank(ascending= False)\n",
    "data[['hypothesis', 'RICE', 'RICE_rank']].sort_values(by='RICE', ascending=False)"
   ]
  },
  {
   "cell_type": "markdown",
   "id": "1870fabb",
   "metadata": {},
   "source": [
    "### Укажите, как изменилась приоритизация гипотез при применении RICE вместо ICE. Объясните, почему так произошло."
   ]
  },
  {
   "cell_type": "code",
   "execution_count": 6,
   "id": "3f5731bb",
   "metadata": {},
   "outputs": [
    {
     "data": {
      "text/html": [
       "<style  type=\"text/css\" >\n",
       "#T_7f34b_row0_col1,#T_7f34b_row4_col2,#T_7f34b_row4_col3,#T_7f34b_row8_col4,#T_7f34b_row8_col5{\n",
       "            background-color:  #f7fbff;\n",
       "            color:  #000000;\n",
       "        }#T_7f34b_row0_col2,#T_7f34b_row5_col5{\n",
       "            background-color:  #c6dbef;\n",
       "            color:  #000000;\n",
       "        }#T_7f34b_row0_col3,#T_7f34b_row2_col4,#T_7f34b_row4_col5,#T_7f34b_row8_col1,#T_7f34b_row8_col2{\n",
       "            background-color:  #08306b;\n",
       "            color:  #f1f1f1;\n",
       "        }#T_7f34b_row0_col4{\n",
       "            background-color:  #3787c0;\n",
       "            color:  #000000;\n",
       "        }#T_7f34b_row0_col5,#T_7f34b_row2_col5,#T_7f34b_row3_col5,#T_7f34b_row5_col2{\n",
       "            background-color:  #08509b;\n",
       "            color:  #f1f1f1;\n",
       "        }#T_7f34b_row1_col1,#T_7f34b_row2_col2,#T_7f34b_row7_col5{\n",
       "            background-color:  #deebf7;\n",
       "            color:  #000000;\n",
       "        }#T_7f34b_row1_col2,#T_7f34b_row4_col1{\n",
       "            background-color:  #6aaed6;\n",
       "            color:  #000000;\n",
       "        }#T_7f34b_row1_col3,#T_7f34b_row5_col3{\n",
       "            background-color:  #1b69af;\n",
       "            color:  #f1f1f1;\n",
       "        }#T_7f34b_row1_col4,#T_7f34b_row2_col3,#T_7f34b_row3_col4,#T_7f34b_row5_col4,#T_7f34b_row7_col3,#T_7f34b_row8_col3{\n",
       "            background-color:  #ccdff1;\n",
       "            color:  #000000;\n",
       "        }#T_7f34b_row1_col5,#T_7f34b_row7_col2{\n",
       "            background-color:  #2070b4;\n",
       "            color:  #f1f1f1;\n",
       "        }#T_7f34b_row2_col1,#T_7f34b_row3_col1{\n",
       "            background-color:  #b2d2e8;\n",
       "            color:  #000000;\n",
       "        }#T_7f34b_row3_col2,#T_7f34b_row6_col5{\n",
       "            background-color:  #9dcae1;\n",
       "            color:  #000000;\n",
       "        }#T_7f34b_row3_col3,#T_7f34b_row6_col4{\n",
       "            background-color:  #82bbdb;\n",
       "            color:  #000000;\n",
       "        }#T_7f34b_row4_col4{\n",
       "            background-color:  #084d96;\n",
       "            color:  #f1f1f1;\n",
       "        }#T_7f34b_row5_col1,#T_7f34b_row6_col2{\n",
       "            background-color:  #4191c6;\n",
       "            color:  #000000;\n",
       "        }#T_7f34b_row6_col1,#T_7f34b_row7_col1{\n",
       "            background-color:  #1460a8;\n",
       "            color:  #f1f1f1;\n",
       "        }#T_7f34b_row6_col3,#T_7f34b_row7_col4{\n",
       "            background-color:  #e1edf8;\n",
       "            color:  #000000;\n",
       "        }</style><table id=\"T_7f34b_\" ><thead>    <tr>        <th class=\"blank level0\" ></th>        <th class=\"col_heading level0 col0\" >hypothesis</th>        <th class=\"col_heading level0 col1\" >RICE_rank</th>        <th class=\"col_heading level0 col2\" >ICE_rank</th>        <th class=\"col_heading level0 col3\" >reach</th>        <th class=\"col_heading level0 col4\" >impact</th>        <th class=\"col_heading level0 col5\" >confidence</th>    </tr></thead><tbody>\n",
       "                <tr>\n",
       "                        <th id=\"T_7f34b_level0_row0\" class=\"row_heading level0 row0\" >7</th>\n",
       "                        <td id=\"T_7f34b_row0_col0\" class=\"data row0 col0\" >Добавить форму подписки на все основные страницы, чтобы собрать базу клиентов для email-рассылок</td>\n",
       "                        <td id=\"T_7f34b_row0_col1\" class=\"data row0 col1\" >1.0</td>\n",
       "                        <td id=\"T_7f34b_row0_col2\" class=\"data row0 col2\" >3.0</td>\n",
       "                        <td id=\"T_7f34b_row0_col3\" class=\"data row0 col3\" >10.0</td>\n",
       "                        <td id=\"T_7f34b_row0_col4\" class=\"data row0 col4\" >7.0</td>\n",
       "                        <td id=\"T_7f34b_row0_col5\" class=\"data row0 col5\" >8.0</td>\n",
       "            </tr>\n",
       "            <tr>\n",
       "                        <th id=\"T_7f34b_level0_row1\" class=\"row_heading level0 row1\" >2</th>\n",
       "                        <td id=\"T_7f34b_row1_col0\" class=\"data row1 col0\" >Добавить блоки рекомендаций товаров на сайт интернет магазина, чтобы повысить конверсию и средний чек заказа</td>\n",
       "                        <td id=\"T_7f34b_row1_col1\" class=\"data row1 col1\" >2.0</td>\n",
       "                        <td id=\"T_7f34b_row1_col2\" class=\"data row1 col2\" >5.0</td>\n",
       "                        <td id=\"T_7f34b_row1_col3\" class=\"data row1 col3\" >8.0</td>\n",
       "                        <td id=\"T_7f34b_row1_col4\" class=\"data row1 col4\" >3.0</td>\n",
       "                        <td id=\"T_7f34b_row1_col5\" class=\"data row1 col5\" >7.0</td>\n",
       "            </tr>\n",
       "            <tr>\n",
       "                        <th id=\"T_7f34b_level0_row2\" class=\"row_heading level0 row2\" >0</th>\n",
       "                        <td id=\"T_7f34b_row2_col0\" class=\"data row2 col0\" >Добавить два новых канала привлечения трафика, что позволит привлекать на 30% больше пользователей</td>\n",
       "                        <td id=\"T_7f34b_row2_col1\" class=\"data row2 col1\" >3.5</td>\n",
       "                        <td id=\"T_7f34b_row2_col2\" class=\"data row2 col2\" >2.0</td>\n",
       "                        <td id=\"T_7f34b_row2_col3\" class=\"data row2 col3\" >3.0</td>\n",
       "                        <td id=\"T_7f34b_row2_col4\" class=\"data row2 col4\" >10.0</td>\n",
       "                        <td id=\"T_7f34b_row2_col5\" class=\"data row2 col5\" >8.0</td>\n",
       "            </tr>\n",
       "            <tr>\n",
       "                        <th id=\"T_7f34b_level0_row3\" class=\"row_heading level0 row3\" >6</th>\n",
       "                        <td id=\"T_7f34b_row3_col0\" class=\"data row3 col0\" >Показать на главной странице баннеры с актуальными акциями и распродажами, чтобы увеличить конверсию</td>\n",
       "                        <td id=\"T_7f34b_row3_col1\" class=\"data row3 col1\" >3.5</td>\n",
       "                        <td id=\"T_7f34b_row3_col2\" class=\"data row3 col2\" >4.0</td>\n",
       "                        <td id=\"T_7f34b_row3_col3\" class=\"data row3 col3\" >5.0</td>\n",
       "                        <td id=\"T_7f34b_row3_col4\" class=\"data row3 col4\" >3.0</td>\n",
       "                        <td id=\"T_7f34b_row3_col5\" class=\"data row3 col5\" >8.0</td>\n",
       "            </tr>\n",
       "            <tr>\n",
       "                        <th id=\"T_7f34b_level0_row4\" class=\"row_heading level0 row4\" >8</th>\n",
       "                        <td id=\"T_7f34b_row4_col0\" class=\"data row4 col0\" >Запустить акцию, дающую скидку на товар в день рождения</td>\n",
       "                        <td id=\"T_7f34b_row4_col1\" class=\"data row4 col1\" >5.0</td>\n",
       "                        <td id=\"T_7f34b_row4_col2\" class=\"data row4 col2\" >1.0</td>\n",
       "                        <td id=\"T_7f34b_row4_col3\" class=\"data row4 col3\" >1.0</td>\n",
       "                        <td id=\"T_7f34b_row4_col4\" class=\"data row4 col4\" >9.0</td>\n",
       "                        <td id=\"T_7f34b_row4_col5\" class=\"data row4 col5\" >9.0</td>\n",
       "            </tr>\n",
       "            <tr>\n",
       "                        <th id=\"T_7f34b_level0_row5\" class=\"row_heading level0 row5\" >3</th>\n",
       "                        <td id=\"T_7f34b_row5_col0\" class=\"data row5 col0\" >Изменить структура категорий, что увеличит конверсию, т.к. пользователи быстрее найдут нужный товар</td>\n",
       "                        <td id=\"T_7f34b_row5_col1\" class=\"data row5 col1\" >6.0</td>\n",
       "                        <td id=\"T_7f34b_row5_col2\" class=\"data row5 col2\" >8.0</td>\n",
       "                        <td id=\"T_7f34b_row5_col3\" class=\"data row5 col3\" >8.0</td>\n",
       "                        <td id=\"T_7f34b_row5_col4\" class=\"data row5 col4\" >3.0</td>\n",
       "                        <td id=\"T_7f34b_row5_col5\" class=\"data row5 col5\" >3.0</td>\n",
       "            </tr>\n",
       "            <tr>\n",
       "                        <th id=\"T_7f34b_level0_row6\" class=\"row_heading level0 row6\" >1</th>\n",
       "                        <td id=\"T_7f34b_row6_col0\" class=\"data row6 col0\" >Запустить собственную службу доставки, что сократит срок доставки заказов</td>\n",
       "                        <td id=\"T_7f34b_row6_col1\" class=\"data row6 col1\" >7.5</td>\n",
       "                        <td id=\"T_7f34b_row6_col2\" class=\"data row6 col2\" >6.0</td>\n",
       "                        <td id=\"T_7f34b_row6_col3\" class=\"data row6 col3\" >2.0</td>\n",
       "                        <td id=\"T_7f34b_row6_col4\" class=\"data row6 col4\" >5.0</td>\n",
       "                        <td id=\"T_7f34b_row6_col5\" class=\"data row6 col5\" >4.0</td>\n",
       "            </tr>\n",
       "            <tr>\n",
       "                        <th id=\"T_7f34b_level0_row7\" class=\"row_heading level0 row7\" >5</th>\n",
       "                        <td id=\"T_7f34b_row7_col0\" class=\"data row7 col0\" >Добавить страницу отзывов клиентов о магазине, что позволит увеличить количество заказов</td>\n",
       "                        <td id=\"T_7f34b_row7_col1\" class=\"data row7 col1\" >7.5</td>\n",
       "                        <td id=\"T_7f34b_row7_col2\" class=\"data row7 col2\" >7.0</td>\n",
       "                        <td id=\"T_7f34b_row7_col3\" class=\"data row7 col3\" >3.0</td>\n",
       "                        <td id=\"T_7f34b_row7_col4\" class=\"data row7 col4\" >2.0</td>\n",
       "                        <td id=\"T_7f34b_row7_col5\" class=\"data row7 col5\" >2.0</td>\n",
       "            </tr>\n",
       "            <tr>\n",
       "                        <th id=\"T_7f34b_level0_row8\" class=\"row_heading level0 row8\" >4</th>\n",
       "                        <td id=\"T_7f34b_row8_col0\" class=\"data row8 col0\" >Изменить цвет фона главной страницы, чтобы увеличить вовлеченность пользователей</td>\n",
       "                        <td id=\"T_7f34b_row8_col1\" class=\"data row8 col1\" >9.0</td>\n",
       "                        <td id=\"T_7f34b_row8_col2\" class=\"data row8 col2\" >9.0</td>\n",
       "                        <td id=\"T_7f34b_row8_col3\" class=\"data row8 col3\" >3.0</td>\n",
       "                        <td id=\"T_7f34b_row8_col4\" class=\"data row8 col4\" >1.0</td>\n",
       "                        <td id=\"T_7f34b_row8_col5\" class=\"data row8 col5\" >1.0</td>\n",
       "            </tr>\n",
       "    </tbody></table>"
      ],
      "text/plain": [
       "<pandas.io.formats.style.Styler at 0x1fa49bd8550>"
      ]
     },
     "execution_count": 6,
     "metadata": {},
     "output_type": "execute_result"
    }
   ],
   "source": [
    "(data[['hypothesis', 'RICE_rank', 'ICE_rank', 'reach', 'impact', 'confidence']].sort_values(by='RICE_rank')\n",
    " .style\n",
    " .background_gradient(cmap='Blues', axis=0)\n",
    " .format({\"RICE_rank\": \"{:.1f}\", \n",
    "          \"ICE_rank\": \"{:.1f}\", \n",
    "          \"reach\": \"{:.1f}\", \n",
    "          \"impact\": \"{:.1f}\", \n",
    "          \"confidence\": \"{:.1f}\"})\n",
    ")"
   ]
  },
  {
   "cell_type": "markdown",
   "id": "8b21a035",
   "metadata": {},
   "source": [
    "**Вывод:**\n",
    "Основная причина разницы в приоритизации гипотезы методом RICE от метода ICE заключается в том, что в топе гипотез метода ICE находяться гипотезы, которые имею незначительный охват пользователей."
   ]
  },
  {
   "cell_type": "markdown",
   "id": "99f6e367",
   "metadata": {},
   "source": [
    "## Часть 2. Анализ A/B-теста"
   ]
  },
  {
   "cell_type": "code",
   "execution_count": 7,
   "id": "69a36a10",
   "metadata": {},
   "outputs": [],
   "source": [
    "# импортируем дополнительные библиотеки которые нам понадобятся в этой части\n",
    "import scipy.stats as stats\n",
    "import datetime as dt\n",
    "import numpy as np\n",
    "import matplotlib.pyplot as plt"
   ]
  },
  {
   "cell_type": "code",
   "execution_count": 8,
   "id": "d96f6d7b",
   "metadata": {},
   "outputs": [],
   "source": [
    "# оборачиваем в конструкцию для запуска локально или с платформы Яндекса\n",
    "try:\n",
    "    orders, visitors = (\n",
    "        pd.read_csv('https://code.s3.yandex.net/datasets/orders.csv'),\n",
    "        pd.read_csv('https://code.s3.yandex.net/datasets/visitors.csv')\n",
    "    )\n",
    "except:\n",
    "    orders, visitors = (\n",
    "        pd.read_csv('/datasets/orders.csv'),\n",
    "        pd.read_csv('/datasets/visitors.csv')\n",
    "    )"
   ]
  },
  {
   "cell_type": "code",
   "execution_count": 9,
   "id": "fd9d2f14",
   "metadata": {},
   "outputs": [
    {
     "name": "stdout",
     "output_type": "stream",
     "text": [
      "   transactionId   visitorId        date  revenue group\n",
      "0     3667963787  3312258926  2019-08-15     1650     B\n",
      "1     2804400009  3642806036  2019-08-15      730     B\n",
      "2     2961555356  4069496402  2019-08-15      400     A\n",
      "3     3797467345  1196621759  2019-08-15     9759     B\n",
      "4     2282983706  2322279887  2019-08-15     2308     B\n",
      "         date group  visitors\n",
      "0  2019-08-01     A       719\n",
      "1  2019-08-02     A       619\n",
      "2  2019-08-03     A       507\n",
      "3  2019-08-04     A       717\n",
      "4  2019-08-05     A       756\n",
      "\n",
      "датафреймы до изменения: \n",
      "\n",
      "<class 'pandas.core.frame.DataFrame'>\n",
      "RangeIndex: 1197 entries, 0 to 1196\n",
      "Data columns (total 5 columns):\n",
      " #   Column         Non-Null Count  Dtype \n",
      "---  ------         --------------  ----- \n",
      " 0   transactionId  1197 non-null   int64 \n",
      " 1   visitorId      1197 non-null   int64 \n",
      " 2   date           1197 non-null   object\n",
      " 3   revenue        1197 non-null   int64 \n",
      " 4   group          1197 non-null   object\n",
      "dtypes: int64(3), object(2)\n",
      "memory usage: 46.9+ KB\n",
      "<class 'pandas.core.frame.DataFrame'>\n",
      "RangeIndex: 62 entries, 0 to 61\n",
      "Data columns (total 3 columns):\n",
      " #   Column    Non-Null Count  Dtype \n",
      "---  ------    --------------  ----- \n",
      " 0   date      62 non-null     object\n",
      " 1   group     62 non-null     object\n",
      " 2   visitors  62 non-null     int64 \n",
      "dtypes: int64(1), object(2)\n",
      "memory usage: 1.6+ KB\n",
      "\n",
      "датафреймы после изменения: \n",
      "\n",
      "<class 'pandas.core.frame.DataFrame'>\n",
      "RangeIndex: 1197 entries, 0 to 1196\n",
      "Data columns (total 5 columns):\n",
      " #   Column         Non-Null Count  Dtype         \n",
      "---  ------         --------------  -----         \n",
      " 0   transactionid  1197 non-null   int64         \n",
      " 1   visitorid      1197 non-null   int64         \n",
      " 2   date           1197 non-null   datetime64[ns]\n",
      " 3   revenue        1197 non-null   int64         \n",
      " 4   group          1197 non-null   object        \n",
      "dtypes: datetime64[ns](1), int64(3), object(1)\n",
      "memory usage: 46.9+ KB\n",
      "<class 'pandas.core.frame.DataFrame'>\n",
      "RangeIndex: 62 entries, 0 to 61\n",
      "Data columns (total 3 columns):\n",
      " #   Column    Non-Null Count  Dtype         \n",
      "---  ------    --------------  -----         \n",
      " 0   date      62 non-null     datetime64[ns]\n",
      " 1   group     62 non-null     object        \n",
      " 2   visitors  62 non-null     int64         \n",
      "dtypes: datetime64[ns](1), int64(1), object(1)\n",
      "memory usage: 1.6+ KB\n"
     ]
    }
   ],
   "source": [
    "print(orders.head())\n",
    "print(visitors.head())\n",
    "print()\n",
    "\n",
    "# проверяем тип данных в загруженых датафреймах\n",
    "print('датафреймы до изменения: \\n')\n",
    "orders.info()\n",
    "visitors.info()\n",
    "print()\n",
    "\n",
    "# преобразовываем даты в тип дататайм\n",
    "orders['date'] = orders['date'].map(\n",
    "    lambda x: dt.datetime.strptime(x, '%Y-%m-%d')\n",
    ")\n",
    "visitors['date'] = visitors['date'].map(\n",
    "    lambda x: dt.datetime.strptime(x, '%Y-%m-%d')\n",
    ")\n",
    "# приводим названия столбцов к нижнему регистру\n",
    "orders.columns = orders.columns.str.lower()\n",
    "visitors.columns = visitors.columns.str.lower()\n",
    "\n",
    "# проверяем результаты преобразований    \n",
    "print('датафреймы после изменения: \\n')\n",
    "orders.info()\n",
    "visitors.info()"
   ]
  },
  {
   "cell_type": "code",
   "execution_count": 10,
   "id": "ce1f5792",
   "metadata": {},
   "outputs": [
    {
     "name": "stdout",
     "output_type": "stream",
     "text": [
      "        date group  orders  buyers  revenue  visitors\n",
      "0 2019-08-01     A      24      20   148579       719\n",
      "1 2019-08-01     B      21      20   101217       713\n",
      "2 2019-08-02     A      44      38   242401      1338\n",
      "3 2019-08-02     B      45      43   266748      1294\n",
      "4 2019-08-03     A      68      62   354874      1845\n"
     ]
    }
   ],
   "source": [
    "# создаем массив уникальных пар значений дат и групп теста\n",
    "datesGroups = orders[['date','group']].drop_duplicates()\n",
    "\n",
    "# получаем агрегированные кумулятивные по дням данные о заказах \n",
    "ordersAggregated = datesGroups.apply(lambda x: orders[np.logical_and(orders['date'] <= x['date'], orders['group'] == x['group'])].agg({'date' : 'max', 'group' : 'max', 'transactionid' : 'nunique', 'visitorid' : 'nunique', 'revenue' : 'sum'}), axis=1).sort_values(by=['date','group'])\n",
    "\n",
    "# получаем агрегированные кумулятивные по дням данные о посетителях интернет-магазина \n",
    "visitorsAggregated = datesGroups.apply(lambda x: visitors[np.logical_and(visitors['date'] <= x['date'], visitors['group'] == x['group'])].agg({'date' : 'max', 'group' : 'max', 'visitors' : 'sum'}), axis=1).sort_values(by=['date','group'])\n",
    "\n",
    "# объединяем кумулятивные данные в одной таблице и присваиваем ее столбцам понятные названия\n",
    "cumulativeData = ordersAggregated.merge(visitorsAggregated, left_on=['date', 'group'], right_on=['date', 'group'])\n",
    "cumulativeData.columns = ['date', 'group', 'orders', 'buyers', 'revenue', 'visitors']\n",
    "\n",
    "print(cumulativeData.head())"
   ]
  },
  {
   "cell_type": "code",
   "execution_count": 11,
   "id": "95fe52a1",
   "metadata": {},
   "outputs": [
    {
     "name": "stdout",
     "output_type": "stream",
     "text": [
      "['A' 'B']\n",
      "['B' 'A'] \n",
      "\n",
      "Количество пользователей в каждой группе: \n",
      "        visitorid\n",
      "group           \n",
      "A            503\n",
      "B            586 \n",
      "\n",
      "Минимальная дата исследования: \n",
      " 2019-08-01 00:00:00 \n",
      "\n",
      "Максимальная дата исследования: \n",
      " 2019-08-31 00:00:00 \n",
      "\n",
      "Empty DataFrame\n",
      "Columns: [transactionid, visitorid, date, revenue, group]\n",
      "Index: []\n",
      "Пропуски в visitors: \n",
      " date        0\n",
      "group       0\n",
      "visitors    0\n",
      "dtype: int64 \n",
      "\n",
      "Пропуски в orders: \n",
      " transactionid    0\n",
      "visitorid        0\n",
      "date             0\n",
      "revenue          0\n",
      "group            0\n",
      "dtype: int64 \n",
      "\n",
      "Количество дубликатов в visitors: \n",
      " 0 \n",
      "\n",
      "Количество дубликатов в orders: \n",
      " 0 \n",
      "\n",
      "Количество пользователей в обеих группах: 58 \n",
      "\n"
     ]
    }
   ],
   "source": [
    "# проверяем сколько всего групп в АВ-тесте\n",
    "print(visitors['group'].unique())\n",
    "print(orders['group'].unique(), '\\n')\n",
    "\n",
    "# количество пользователей в каждой группе\n",
    "print('Количество пользователей в каждой группе: \\n',orders.groupby('group').agg({'visitorid': pd.Series.nunique}), '\\n')\n",
    "\n",
    "# минимальная и максимальная дата исследования\n",
    "print('Минимальная дата исследования: \\n', visitors['date'].min(),'\\n')\n",
    "print('Максимальная дата исследования: \\n',visitors['date'].max(),'\\n')\n",
    "\n",
    "#пользователи попавшие в обе группы\n",
    "print(orders.query('group == \"A\" and group == \"B\"'))\n",
    "\n",
    "# проверяем данные на пропуски\n",
    "print('Пропуски в visitors: \\n', visitors.isna().sum(),'\\n')\n",
    "print('Пропуски в orders: \\n', orders.isna().sum(),'\\n')\n",
    "\n",
    "# проверяем данные на дубликаты\n",
    "print('Количество дубликатов в visitors: \\n', visitors.duplicated().sum(),'\\n')\n",
    "print('Количество дубликатов в orders: \\n', orders.duplicated().sum(),'\\n')\n",
    "\n",
    "# проверяем пользователей в обеих группах\n",
    "print('Количество пользователей в обеих группах:', len(np.intersect1d(orders[orders['group']=='A']['visitorid'], orders[orders['group']=='B']['visitorid'])) ,'\\n')"
   ]
  },
  {
   "cell_type": "markdown",
   "id": "bfb2f08a",
   "metadata": {},
   "source": [
    "**Вывод:**\n",
    "    \n",
    "    1. Групп в тесте 2\n",
    "    2. Количество пользователей в группе В больше\n",
    "    3. Минимальная дата исследования: 2019-08-01, максимальная дата исследования: 2019-08-31\n",
    "    4. Количество пользователей в обеих группах: 58\n",
    "    5. Пропуски и дубликаты отсутствуют\n"
   ]
  },
  {
   "cell_type": "markdown",
   "id": "c8031ca6",
   "metadata": {},
   "source": [
    "### Постройте график кумулятивной выручки по группам. Сделайте выводы и предположения."
   ]
  },
  {
   "cell_type": "code",
   "execution_count": 12,
   "id": "fb4fe9aa",
   "metadata": {},
   "outputs": [
    {
     "data": {
      "image/png": "[encoded data removed]",
      "text/plain": [
       "<Figure size 1500x800 with 1 Axes>"
      ]
     },
     "metadata": {},
     "output_type": "display_data"
    }
   ],
   "source": [
    "# датафрейм с кумулятивным количеством заказов и кумулятивной выручкой по дням в группе А\n",
    "cumulativeRevenueA = cumulativeData[cumulativeData['group']=='A'][['date','revenue', 'orders', 'visitors']]\n",
    "\n",
    "# датафрейм с кумулятивным количеством заказов и кумулятивной выручкой по дням в группе B\n",
    "cumulativeRevenueB = cumulativeData[cumulativeData['group']=='B'][['date','revenue', 'orders', 'visitors']]\n",
    "\n",
    "# Строим график выручки группы А\n",
    "plt.figure(figsize=(15,8))\n",
    "plt.plot(cumulativeRevenueA['date'], cumulativeRevenueA['revenue'], label='A')\n",
    "\n",
    "# Строим график выручки группы B\n",
    "plt.plot(cumulativeRevenueB['date'], cumulativeRevenueB['revenue'], label='B')\n",
    "\n",
    "plt.legend()\n",
    "plt.xlabel('Дата')\n",
    "plt.ylabel('Выручка')\n",
    "plt.title('Кумулятивная выручка по группам')\n",
    "plt.show()\n"
   ]
  },
  {
   "cell_type": "markdown",
   "id": "3e7d3e11",
   "metadata": {},
   "source": [
    "**Вывод:** Выручка почти равномерно увеличивается в течение всего теста. Хороший знак. Однако график выручки группы B имеет резкий скачок выручки. Это может сигнализировать о всплесках числа заказов, либо о появлении очень дорогих заказов в выборке."
   ]
  },
  {
   "cell_type": "markdown",
   "id": "b6af8831",
   "metadata": {},
   "source": [
    "### Постройте график кумулятивного среднего чека по группам. Сделайте выводы и предположения."
   ]
  },
  {
   "cell_type": "code",
   "execution_count": 13,
   "id": "0a546ab4",
   "metadata": {},
   "outputs": [
    {
     "data": {
      "image/png": "[encoded data removed]",
      "text/plain": [
       "<Figure size 1500x800 with 1 Axes>"
      ]
     },
     "metadata": {},
     "output_type": "display_data"
    }
   ],
   "source": [
    "# Строим график среднего чека по группам\n",
    "plt.figure(figsize=(15,8))\n",
    "plt.plot(cumulativeRevenueA['date'], cumulativeRevenueA['revenue']/cumulativeRevenueA['orders'], label='A')\n",
    "plt.plot(cumulativeRevenueB['date'], cumulativeRevenueB['revenue']/cumulativeRevenueB['orders'], label='B')\n",
    "plt.legend()\n",
    "plt.xlabel('Дата')\n",
    "plt.ylabel('Средний чек')\n",
    "plt.title('Кумулятивный средний чек по группам')\n",
    "plt.show()"
   ]
  },
  {
   "cell_type": "markdown",
   "id": "54969fc2",
   "metadata": {},
   "source": [
    "**Вывод:** Средний чек становится равномерным ближе к концу теста: установился для группы A и начинает снижаться для группы B после всплеска в середине отрезка. Возможно, в группу B в середине теста попали крупные заказы (резкий всплеск на графике). Тогда группе В нужно больше данных, чтобы прийти к реальному среднему чеку и установиться на его уровне."
   ]
  },
  {
   "cell_type": "markdown",
   "id": "a7ef2223",
   "metadata": {},
   "source": [
    "### Постройте график относительного изменения кумулятивного среднего чека группы B к группе A. Сделайте выводы и предположения."
   ]
  },
  {
   "cell_type": "code",
   "execution_count": 14,
   "id": "0679fbfc",
   "metadata": {},
   "outputs": [
    {
     "data": {
      "image/png": "[encoded data removed]",
      "text/plain": [
       "<Figure size 1500x800 with 1 Axes>"
      ]
     },
     "metadata": {},
     "output_type": "display_data"
    }
   ],
   "source": [
    "# собираем данные в одном датафрейме\n",
    "mergedCumulativeRevenue = cumulativeRevenueA.merge(cumulativeRevenueB, left_on='date', right_on='date', how='left', suffixes=['A', 'B'])\n",
    "\n",
    "# cтроим отношение средних чеков\n",
    "plt.figure(figsize=(15,8))\n",
    "plt.plot(mergedCumulativeRevenue['date'], (mergedCumulativeRevenue['revenueB']/mergedCumulativeRevenue['ordersB'])/(mergedCumulativeRevenue['revenueA']/mergedCumulativeRevenue['ordersA'])-1)\n",
    "\n",
    "# добавляем ось X\n",
    "plt.axhline(y=0, color='black', linestyle='--')\n",
    "plt.axis(ymin=-0.3, ymax=0.6)\n",
    "plt.xlabel('Дата')\n",
    "plt.title('Относительное изменение кумулятивного среднего чека группы B к группе A')\n",
    "plt.show()"
   ]
  },
  {
   "cell_type": "markdown",
   "id": "e1b9ad1a",
   "metadata": {},
   "source": [
    "**Вывод:** В нескольких точках график различия между сегментами резко отличается всплесками. Предполагаю что в данных есть крупные заказы и выбросы."
   ]
  },
  {
   "cell_type": "markdown",
   "id": "b23ae1d9",
   "metadata": {},
   "source": [
    "### Постройте график кумулятивного среднего количества заказов на посетителя по группам. Сделайте выводы и предположения."
   ]
  },
  {
   "cell_type": "code",
   "execution_count": 15,
   "id": "667d5ccf",
   "metadata": {},
   "outputs": [
    {
     "data": {
      "image/png": "[encoded data removed]",
      "text/plain": [
       "<Figure size 1500x800 with 1 Axes>"
      ]
     },
     "metadata": {},
     "output_type": "display_data"
    }
   ],
   "source": [
    "# Строим график среднего количества заказов на посетителя по группам\n",
    "cumulativeData['average_orders'] = cumulativeData['orders']/cumulativeData['visitors']\n",
    "\n",
    "# отделяем данные по группе A\n",
    "cumulativeDataA = cumulativeData[cumulativeData['group']=='A']\n",
    "\n",
    "# отделяем данные по группе B\n",
    "cumulativeDataB = cumulativeData[cumulativeData['group']=='B']\n",
    "\n",
    "# строим графики\n",
    "plt.figure(figsize=(15,8))\n",
    "plt.plot(cumulativeDataA['date'], cumulativeDataA['average_orders'], label='A')\n",
    "plt.plot(cumulativeDataB['date'], cumulativeDataB['average_orders'], label='B')\n",
    "plt.legend()\n",
    "\n",
    "# задаем масштаб осей\n",
    "plt.axis(ymin=0.01, ymax=0.04)\n",
    "plt.xlabel('Дата')\n",
    "plt.ylabel('Количество заказов')\n",
    "plt.title('Кумулятивное среднее количество заказов на посетителя по группам')\n",
    "plt.show()"
   ]
  },
  {
   "cell_type": "markdown",
   "id": "9e2dccad",
   "metadata": {},
   "source": [
    "**Вывод:** Количества заказов на посетителя по группам отличаются. Группа А показала падение и после этого зафиксировалась в значениях, группа В при этом показала увеличение конверсии и тоже зафиксировалась в значениях."
   ]
  },
  {
   "cell_type": "markdown",
   "id": "3fe57642",
   "metadata": {},
   "source": [
    "### Постройте график относительного изменения кумулятивного среднего количества заказов на посетителя группы B к группе A. Сделайте выводы и предположения."
   ]
  },
  {
   "cell_type": "code",
   "execution_count": 16,
   "id": "31d86e49",
   "metadata": {},
   "outputs": [
    {
     "data": {
      "image/png": "[encoded data removed]",
      "text/plain": [
       "<Figure size 1500x800 with 1 Axes>"
      ]
     },
     "metadata": {},
     "output_type": "display_data"
    }
   ],
   "source": [
    "mergedCumulativeConversions = cumulativeDataA[['date','average_orders']].merge(cumulativeDataB[['date','average_orders']], left_on='date', right_on='date', how='left', suffixes=['A', 'B'])\n",
    "\n",
    "plt.figure(figsize=(15,8))\n",
    "plt.plot(mergedCumulativeConversions['date'], mergedCumulativeConversions['average_ordersB']/mergedCumulativeConversions['average_ordersA']-1)\n",
    "\n",
    "plt.axhline(y=0, color='black', linestyle='--')\n",
    "plt.axhline(y=0.138, color='grey', linestyle='--')\n",
    "plt.axis(ymin=-0.2, ymax=0.4)\n",
    "plt.xlabel('Дата')\n",
    "plt.title('Относительный прирост среднего количества заказов на посетителя группы B относительно группы A')\n",
    "plt.show()"
   ]
  },
  {
   "cell_type": "markdown",
   "id": "74525514",
   "metadata": {},
   "source": [
    "**Вывод:** В начале теста группа B проигрывала группе A, затем вырвалась вперёд и на протяжении оставшейся части теста была выше среднего количества заказов на посетителя группы А."
   ]
  },
  {
   "cell_type": "markdown",
   "id": "c9e128fb",
   "metadata": {},
   "source": [
    "### Постройте точечный график количества заказов по пользователям. Сделайте выводы и предположения."
   ]
  },
  {
   "cell_type": "code",
   "execution_count": 17,
   "id": "d8d67bc9",
   "metadata": {},
   "outputs": [
    {
     "name": "stdout",
     "output_type": "stream",
     "text": [
      "       visitorid  orders\n",
      "1023  4256040402      11\n",
      "591   2458001652      11\n",
      "569   2378935119       9\n",
      "487   2038680547       8\n",
      "44     199603092       5\n",
      "744   3062433592       5\n",
      "55     237748145       5\n",
      "917   3803269165       5\n",
      "299   1230306981       5\n",
      "897   3717692402       5\n"
     ]
    },
    {
     "data": {
      "image/png": "[encoded data removed]",
      "text/plain": [
       "<Figure size 640x480 with 1 Axes>"
      ]
     },
     "metadata": {},
     "output_type": "display_data"
    }
   ],
   "source": [
    "# создаем датафрейм с количеством заказов по пользователям\n",
    "ordersByUsers = (\n",
    "    orders.groupby('visitorid', as_index=False)\n",
    "    .agg({'transactionid': 'nunique'})\n",
    ")\n",
    "ordersByUsers.columns = ['visitorid', 'orders']\n",
    "print(ordersByUsers.sort_values(by='orders', ascending=False).head(10))\n",
    "\n",
    "# строим точечную диаграмму числа заказов на одного пользователя:\n",
    "x_values = pd.Series(range(0,len(ordersByUsers)))\n",
    "plt.scatter(x_values, ordersByUsers['orders'])\n",
    "plt.show()"
   ]
  },
  {
   "cell_type": "markdown",
   "id": "f946ffa5",
   "metadata": {},
   "source": [
    "**Вывод:** Большинство покупателей заказывали только один раз. Однако доля пользователей с 2-я заказами тоже значительна. "
   ]
  },
  {
   "cell_type": "markdown",
   "id": "7d641b6f",
   "metadata": {},
   "source": [
    "### Посчитайте 95-й и 99-й перцентили количества заказов на пользователя. Выберите границу для определения аномальных пользователей."
   ]
  },
  {
   "cell_type": "code",
   "execution_count": 18,
   "id": "7cc675ba",
   "metadata": {},
   "outputs": [
    {
     "name": "stdout",
     "output_type": "stream",
     "text": [
      "[1. 2. 4.]\n"
     ]
    }
   ],
   "source": [
    "print(np.percentile(ordersByUsers['orders'], [90, 95, 99]))"
   ]
  },
  {
   "cell_type": "markdown",
   "id": "62cc15a8",
   "metadata": {},
   "source": [
    "**Вывод:** Не более 5% пользователей оформляли больше чем 2 заказа. И 10% пользователей заказывали более одного раза. \n",
    "Разумно выбрать 2 заказа на одного пользователя за верхнюю границу числа заказов, и отсеять аномальных пользователей по ней."
   ]
  },
  {
   "cell_type": "markdown",
   "id": "59f78c05",
   "metadata": {},
   "source": [
    "### Постройте точечный график стоимостей заказов. Сделайте выводы и предположения."
   ]
  },
  {
   "cell_type": "code",
   "execution_count": 19,
   "id": "3dce9076",
   "metadata": {},
   "outputs": [
    {
     "data": {
      "image/png": "[encoded data removed]",
      "text/plain": [
       "<Figure size 640x480 with 1 Axes>"
      ]
     },
     "metadata": {},
     "output_type": "display_data"
    }
   ],
   "source": [
    "x_values = pd.Series(range(0,len(orders['revenue'])))\n",
    "plt.scatter(x_values, orders['revenue'])\n",
    "plt.show()"
   ]
  },
  {
   "cell_type": "markdown",
   "id": "42cf1c86",
   "metadata": {},
   "source": [
    "**Вывод:**  Есть немного дорогих заказов. По графику выбрать границу аномальных значений тяжело."
   ]
  },
  {
   "cell_type": "markdown",
   "id": "c6802c47",
   "metadata": {},
   "source": [
    "### Посчитайте 95-й и 99-й перцентили стоимости заказов. Выберите границу для определения аномальных заказов."
   ]
  },
  {
   "cell_type": "code",
   "execution_count": 20,
   "id": "2b25a18c",
   "metadata": {},
   "outputs": [
    {
     "name": "stdout",
     "output_type": "stream",
     "text": [
      "[18168.  28000.  58233.2]\n"
     ]
    }
   ],
   "source": [
    "print(np.percentile(orders['revenue'], [90, 95, 99]))"
   ]
  },
  {
   "cell_type": "markdown",
   "id": "36b54104",
   "metadata": {},
   "source": [
    "**Вывод:** Не более 5% заказов дороже 28 000 рублей и не более 1% дороже 58 233 рублей. Разумно выбрать за верхнюю границу сумму заказа 28 000 рублей, и отсеять аномальные заказы по ней."
   ]
  },
  {
   "cell_type": "markdown",
   "id": "6fb75e29",
   "metadata": {},
   "source": [
    "### Посчитайте статистическую значимость различий в среднем количестве заказов на посетителя между группами по «сырым» данным. Сделайте выводы и предположения."
   ]
  },
  {
   "cell_type": "code",
   "execution_count": 21,
   "id": "eeac832b",
   "metadata": {},
   "outputs": [
    {
     "name": "stdout",
     "output_type": "stream",
     "text": [
      "        date  ordersPerDateA  revenuePerDateA  ordersPerDateB  \\\n",
      "0 2019-08-01              20           148579              21   \n",
      "1 2019-08-02              19            93822              24   \n",
      "2 2019-08-03              24           112473              16   \n",
      "3 2019-08-04              15            70825              17   \n",
      "4 2019-08-05              25           124218              23   \n",
      "\n",
      "   revenuePerDateB  ordersCummulativeA  revenueCummulativeA  \\\n",
      "0           101217                  20               148579   \n",
      "1           165531                  39               242401   \n",
      "2           114248                  63               354874   \n",
      "3           108571                  78               425699   \n",
      "4            92428                 103               549917   \n",
      "\n",
      "   ordersCummulativeB  revenueCummulativeB  visitorsPerDateA  \\\n",
      "0                  21               101217               719   \n",
      "1                  45               266748               619   \n",
      "2                  61               380996               507   \n",
      "3                  78               489567               717   \n",
      "4                 101               581995               756   \n",
      "\n",
      "   visitorsPerDateB  visitorsCummulativeA  visitorsCummulativeB  \n",
      "0               713                   719                   713  \n",
      "1               581                  1338                  1294  \n",
      "2               509                  1845                  1803  \n",
      "3               770                  2562                  2573  \n",
      "4               707                  3318                  3280  \n"
     ]
    }
   ],
   "source": [
    "# подготавливаем данные для подсчета статистической значимости \n",
    "visitorsADaily = visitors[visitors['group'] == 'A'][['date', 'visitors']]\n",
    "visitorsADaily.columns = ['date', 'visitorsPerDateA']\n",
    "\n",
    "visitorsACummulative = visitorsADaily.apply(\n",
    "    lambda x: visitorsADaily[visitorsADaily['date'] <= x['date']].agg(\n",
    "        {'date': 'max', 'visitorsPerDateA': 'sum'}\n",
    "    ),\n",
    "    axis=1,\n",
    ")\n",
    "visitorsACummulative.columns = ['date', 'visitorsCummulativeA']\n",
    "\n",
    "visitorsBDaily = visitors[visitors['group'] == 'B'][['date', 'visitors']]\n",
    "visitorsBDaily.columns = ['date', 'visitorsPerDateB']\n",
    "\n",
    "visitorsBCummulative = visitorsBDaily.apply(\n",
    "    lambda x: visitorsBDaily[visitorsBDaily['date'] <= x['date']].agg(\n",
    "        {'date': 'max', 'visitorsPerDateB': 'sum'}\n",
    "    ),\n",
    "    axis=1,\n",
    ")\n",
    "visitorsBCummulative.columns = ['date', 'visitorsCummulativeB']\n",
    "\n",
    "ordersADaily = (\n",
    "    orders[orders['group'] == 'A'][['date', 'transactionid', 'visitorid', 'revenue']]\n",
    "    .groupby('date', as_index=False)\n",
    "    .agg({'visitorid': pd.Series.nunique, 'revenue': 'sum'})\n",
    ")\n",
    "ordersADaily.columns = ['date', 'ordersPerDateA', 'revenuePerDateA']\n",
    "\n",
    "ordersACummulative = ordersADaily.apply(\n",
    "    lambda x: ordersADaily[ordersADaily['date'] <= x['date']].agg(\n",
    "        {'date': 'max', 'ordersPerDateA': 'sum', 'revenuePerDateA': 'sum'}\n",
    "    ),\n",
    "    axis=1,\n",
    ").sort_values(by=['date'])\n",
    "ordersACummulative.columns = [\n",
    "    'date',\n",
    "    'ordersCummulativeA',\n",
    "    'revenueCummulativeA',\n",
    "]\n",
    "\n",
    "ordersBDaily = (\n",
    "    orders[orders['group'] == 'B'][['date', 'transactionid', 'visitorid', 'revenue']]\n",
    "    .groupby('date', as_index=False)\n",
    "    .agg({'transactionid': pd.Series.nunique, 'revenue': 'sum'})\n",
    ")\n",
    "ordersBDaily.columns = ['date', 'ordersPerDateB', 'revenuePerDateB']\n",
    "\n",
    "ordersBCummulative = ordersBDaily.apply(\n",
    "    lambda x: ordersBDaily[ordersBDaily['date'] <= x['date']].agg(\n",
    "        {'date': 'max', 'ordersPerDateB': 'sum', 'revenuePerDateB': 'sum'}\n",
    "    ),\n",
    "    axis=1,\n",
    ").sort_values(by=['date'])\n",
    "ordersBCummulative.columns = [\n",
    "    'date',\n",
    "    'ordersCummulativeB',\n",
    "    'revenueCummulativeB',\n",
    "]\n",
    "\n",
    "data = (\n",
    "    ordersADaily.merge(\n",
    "        ordersBDaily, left_on='date', right_on='date', how='left'\n",
    "    )\n",
    "    .merge(ordersACummulative, left_on='date', right_on='date', how='left')\n",
    "    .merge(ordersBCummulative, left_on='date', right_on='date', how='left')\n",
    "    .merge(visitorsADaily, left_on='date', right_on='date', how='left')\n",
    "    .merge(visitorsBDaily, left_on='date', right_on='date', how='left')\n",
    "    .merge(visitorsACummulative, left_on='date', right_on='date', how='left')\n",
    "    .merge(visitorsBCummulative, left_on='date', right_on='date', how='left')\n",
    ")\n",
    "print(data.head())"
   ]
  },
  {
   "cell_type": "markdown",
   "id": "9f1b92ec",
   "metadata": {},
   "source": [
    "Комментарий студента:\n",
    "    \n",
    "    Нулевая гипотеза: Статистически значимых различий в среднем количестве заказов на посетителя между группами нет\n",
    "    Альтернативная гипотеза: Статистически значимые различия в среднем количестве заказов на посетителя между группами есть\n"
   ]
  },
  {
   "cell_type": "code",
   "execution_count": 22,
   "id": "54f4af9b",
   "metadata": {},
   "outputs": [
    {
     "name": "stdout",
     "output_type": "stream",
     "text": [
      "p-value = 0.017\n",
      "0.138\n"
     ]
    }
   ],
   "source": [
    "# cчитайте статистическую значимость различий в среднем количестве заказов на посетителя между группами по «сырым» данным\n",
    "ordersByUsersA = (\n",
    "    orders[orders['group'] == 'A']\n",
    "    .groupby('visitorid', as_index=False)\n",
    "    .agg({'transactionid': pd.Series.nunique})\n",
    ")\n",
    "ordersByUsersA.columns = ['visitorid', 'orders']\n",
    "\n",
    "ordersByUsersB = (\n",
    "    orders[orders['group'] == 'B']\n",
    "    .groupby('visitorid', as_index=False)\n",
    "    .agg({'transactionid': pd.Series.nunique})\n",
    ")\n",
    "ordersByUsersB.columns = ['visitorid', 'orders']\n",
    "\n",
    "sampleA = pd.concat(\n",
    "    [\n",
    "        ordersByUsersA['orders'],\n",
    "        pd.Series(\n",
    "            0,\n",
    "            index=np.arange(\n",
    "                data['visitorsPerDateA'].sum() - len(ordersByUsersA['orders'])\n",
    "            ),\n",
    "            name='orders',\n",
    "        ),\n",
    "    ],\n",
    "    axis=0,\n",
    ")\n",
    "\n",
    "sampleB = pd.concat(\n",
    "    [\n",
    "        ordersByUsersB['orders'],\n",
    "        pd.Series(\n",
    "            0,\n",
    "            index=np.arange(\n",
    "                data['visitorsPerDateB'].sum() - len(ordersByUsersB['orders'])\n",
    "            ),\n",
    "            name='orders',\n",
    "        ),\n",
    "    ],\n",
    "    axis=0,\n",
    ")\n",
    "\n",
    "print('p-value = {0:.3f}'.format(stats.mannwhitneyu(sampleA, sampleB)[1]))\n",
    "\n",
    "print('{0:.3f}'.format(sampleB.mean() / sampleA.mean() - 1))"
   ]
  },
  {
   "cell_type": "markdown",
   "id": "592b275d",
   "metadata": {},
   "source": [
    "**Вывод:** p-value = 0.017 меньше 0.05. Значит, нулевую гипотезу о том, что статистически значимых различий в среднем числе заказов между группами нет, отвергаем. Относительный выйгрыш группы B равен 13.8%."
   ]
  },
  {
   "cell_type": "markdown",
   "id": "79217be2",
   "metadata": {},
   "source": [
    "### Посчитайте статистическую значимость различий в среднем чеке заказа между группами по «сырым» данным. Сделайте выводы и предположения."
   ]
  },
  {
   "cell_type": "markdown",
   "id": "b375347f",
   "metadata": {},
   "source": [
    "    Нулевая гипотеза: Статистически значимые различия в среднем чеке заказа между группами есть\n",
    "    Альтернативная гипотеза: Статистически значимые различия в в среднем чеке заказа между группами нет\n"
   ]
  },
  {
   "cell_type": "code",
   "execution_count": 23,
   "id": "6e58ee8a",
   "metadata": {},
   "outputs": [
    {
     "name": "stdout",
     "output_type": "stream",
     "text": [
      "p-value = 0.729\n",
      "0.259\n"
     ]
    }
   ],
   "source": [
    "print('p-value = {0:.3f}'.format(stats.mannwhitneyu(orders[orders['group']=='A']['revenue'], orders[orders['group']=='B']['revenue'])[1]))\n",
    "print('{0:.3f}'.format(orders[orders['group']=='B']['revenue'].mean()/orders[orders['group']=='A']['revenue'].mean()-1))"
   ]
  },
  {
   "cell_type": "markdown",
   "id": "02f48c61",
   "metadata": {},
   "source": [
    "**Вывод:** p-value = 0.729 больше 0.05. Значит, причин отвергать нулевую гипотезу и считать, что в среднем чеке есть различия, нет. Средний чек группы В значительно выше среднего чека группы А."
   ]
  },
  {
   "cell_type": "markdown",
   "id": "393520c8",
   "metadata": {},
   "source": [
    "### Посчитайте статистическую значимость различий в среднем количестве заказов на посетителя между группами по «очищенным» данным. Сделайте выводы и предположения."
   ]
  },
  {
   "cell_type": "code",
   "execution_count": 24,
   "id": "743bcd50",
   "metadata": {},
   "outputs": [
    {
     "name": "stdout",
     "output_type": "stream",
     "text": [
      "1099    148427295\n",
      "18      199603092\n",
      "928     204675465\n",
      "23      237748145\n",
      "37      249864742\n",
      "Name: visitorid, dtype: int64\n",
      "74\n"
     ]
    }
   ],
   "source": [
    "# вычисляем аномальных пользователей, их идентификаторы и общее количество\n",
    "usersWithManyOrders = pd.concat(\n",
    "    [\n",
    "        ordersByUsersA[ordersByUsersA['orders'] > 2]['visitorid'],\n",
    "        ordersByUsersB[ordersByUsersB['orders'] > 2]['visitorid'],\n",
    "    ],\n",
    "    axis=0,\n",
    ")\n",
    "usersWithExpensiveOrders = orders[orders['revenue'] > 28000]['visitorid']\n",
    "abnormalUsers = (\n",
    "    pd.concat([usersWithManyOrders, usersWithExpensiveOrders], axis=0)\n",
    "    .drop_duplicates()\n",
    "    .sort_values()\n",
    ")\n",
    "print(abnormalUsers.head(5))\n",
    "print(abnormalUsers.shape[0])"
   ]
  },
  {
   "cell_type": "markdown",
   "id": "42337c05",
   "metadata": {},
   "source": [
    "    Нулевая гипотеза: Статистически значимых различий в среднем количестве заказов на посетителя между группами по «очищенным» данным нет\n",
    "    Альтернативная гипотеза: Статистически значимые различия в среднем количестве заказов на посетителя между группами по «очищенным» данным есть"
   ]
  },
  {
   "cell_type": "code",
   "execution_count": 25,
   "id": "51b475cc",
   "metadata": {},
   "outputs": [
    {
     "name": "stdout",
     "output_type": "stream",
     "text": [
      "p-value = 0.013\n",
      "0.173\n"
     ]
    }
   ],
   "source": [
    "# cчитайте статистическую значимость различий в среднем количестве заказов на посетителя между группами по «очищенным» данным\n",
    "sampleAFiltered = pd.concat(\n",
    "    [\n",
    "        ordersByUsersA[\n",
    "            np.logical_not(ordersByUsersA['visitorid'].isin(abnormalUsers))\n",
    "        ]['orders'],\n",
    "        pd.Series(\n",
    "            0,\n",
    "            index=np.arange(\n",
    "                data['visitorsPerDateA'].sum() - len(ordersByUsersA['orders'])\n",
    "            ),\n",
    "            name='orders',\n",
    "        ),\n",
    "    ],\n",
    "    axis=0,\n",
    ")\n",
    "\n",
    "sampleBFiltered = pd.concat(\n",
    "    [\n",
    "        ordersByUsersB[\n",
    "            np.logical_not(ordersByUsersB['visitorid'].isin(abnormalUsers))\n",
    "        ]['orders'],\n",
    "        pd.Series(\n",
    "            0,\n",
    "            index=np.arange(\n",
    "                data['visitorsPerDateB'].sum() - len(ordersByUsersB['orders'])\n",
    "            ),\n",
    "            name='orders',\n",
    "        ),\n",
    "    ],\n",
    "    axis=0,\n",
    ")\n",
    "print('p-value = {0:.3f}'.format(stats.mannwhitneyu(sampleAFiltered, sampleBFiltered)[1]))\n",
    "print('{0:.3f}'.format(sampleBFiltered.mean()/sampleAFiltered.mean()-1)) "
   ]
  },
  {
   "cell_type": "markdown",
   "id": "93684b0e",
   "metadata": {},
   "source": [
    "**Вывод:** p-value = 0.013 меньше 0.05. Результаты по среднему количеству заказов практически не изменились. А вот относительный выйгрыш группы B увеличился с 13.8% до 17.3%. Это положительный момент, так как среднее количество заказов на посетителя по группе В, по \"очещенным\" данным, получается даже лучше."
   ]
  },
  {
   "cell_type": "markdown",
   "id": "dadba93c",
   "metadata": {},
   "source": [
    "### Посчитайте статистическую значимость различий в среднем чеке заказа между группами по «очищенным» данным. Сделайте выводы и предположения."
   ]
  },
  {
   "cell_type": "markdown",
   "id": "5fae0a95",
   "metadata": {},
   "source": [
    "    Нулевая гипотеза: Статистически значимые различия в среднем чеке заказа между группами по «очищенным» данным есть\n",
    "    Альтернативная гипотеза: Статистически значимые различия в в среднем чеке заказа между по «очищенным» данным группами нет"
   ]
  },
  {
   "cell_type": "code",
   "execution_count": 26,
   "id": "0c19b751",
   "metadata": {},
   "outputs": [
    {
     "name": "stdout",
     "output_type": "stream",
     "text": [
      "p-value = 0.738\n",
      "-0.020\n"
     ]
    }
   ],
   "source": [
    "print(\n",
    "    'p-value = {0:.3f}'.format(\n",
    "        stats.mannwhitneyu(\n",
    "            orders[\n",
    "                np.logical_and(\n",
    "                    orders['group'] == 'A',\n",
    "                    np.logical_not(orders['visitorid'].isin(abnormalUsers)),\n",
    "                )\n",
    "            ]['revenue'],\n",
    "            orders[\n",
    "                np.logical_and(\n",
    "                    orders['group'] == 'B',\n",
    "                    np.logical_not(orders['visitorid'].isin(abnormalUsers)),\n",
    "                )\n",
    "            ]['revenue'],\n",
    "        )[1]\n",
    "    )\n",
    ")\n",
    "\n",
    "print(\n",
    "    \"{0:.3f}\".format(\n",
    "        orders[\n",
    "            np.logical_and(\n",
    "                orders['group'] == 'B',\n",
    "                np.logical_not(orders['visitorid'].isin(abnormalUsers)),\n",
    "            )\n",
    "        ]['revenue'].mean()\n",
    "        / orders[\n",
    "            np.logical_and(\n",
    "                orders['group'] == 'A',\n",
    "                np.logical_not(orders['visitorid'].isin(abnormalUsers)),\n",
    "            )\n",
    "        ]['revenue'].mean()\n",
    "        - 1\n",
    "    )\n",
    ")"
   ]
  },
  {
   "cell_type": "markdown",
   "id": "ced0dab1",
   "metadata": {},
   "source": [
    "**Вывод:** p-value = 0.738 больше 0.05. P-value незначительно увеличился, но и разница между сегментами сократилась с 25.9% до -2%."
   ]
  },
  {
   "cell_type": "markdown",
   "id": "9c2ea21f",
   "metadata": {},
   "source": [
    "### Примите решение по результатам теста и объясните его. Варианты решений:\n",
    "1. Остановить тест, зафиксировать победу одной из групп.\n",
    "2. Остановить тест, зафиксировать отсутствие различий между группами.\n",
    "3. Продолжить тест."
   ]
  },
  {
   "cell_type": "markdown",
   "id": "c3d8445a",
   "metadata": {},
   "source": [
    "Имеющиеся факты:\n",
    "* Есть статистически значимые различия по среднему количеству заказов между группами по «сырым» данным и по данным после фильтрации аномалий;\n",
    "* Нет статистически значимого различия по среднему чеку между группами ни по «сырым», ни по данным после фильтрации аномалий;\n",
    "* График различия среднего количества заказов между группами сообщает, что результаты группы B значительно лучше группы A:"
   ]
  },
  {
   "attachments": {
    "download.png": {
     "image/png": "[encoded data removed]"
    }
   },
   "cell_type": "markdown",
   "id": "01eb3c75",
   "metadata": {},
   "source": [
    "![download.png](attachment:download.png)"
   ]
  },
  {
   "cell_type": "markdown",
   "id": "ee21077a",
   "metadata": {},
   "source": [
    "* График различия среднего чека говорит о том, что результаты группы B значительно лучше, на 26% (хоть мы и знаем из результатов вычеслений, что на это повлияли \"аномальные\" клиенты):"
   ]
  },
  {
   "attachments": {
    "download.png": {
     "image/png": "[encoded data removed]"
    }
   },
   "cell_type": "markdown",
   "id": "cf71ac2d",
   "metadata": {},
   "source": [
    "![download.png](attachment:download.png)"
   ]
  },
  {
   "cell_type": "markdown",
   "id": "47e78436",
   "metadata": {},
   "source": [
    "**Общий вывод: Исходя из обнаруженных фактов, тест следует остановить и признать его успешным.**\n",
    "\n",
    "**Количество заказов у группы В лучше, средний чек на \"очищенных\" данных имеет незначительное отличие от группы А, но при росте количества заказов уменьшение среднего чека вполне допустимо, и для сохранения среднего чека принимаются другие меры по улучшению качества заказов.**"
   ]
  }
 ],
 "metadata": {
  "ExecuteTimeLog": [
   {
    "duration": 516,
    "start_time": "2023-04-30T18:10:04.935Z"
   },
   {
    "duration": 10,
    "start_time": "2023-04-30T18:10:05.452Z"
   },
   {
    "duration": 17,
    "start_time": "2023-04-30T18:10:05.463Z"
   },
   {
    "duration": 17,
    "start_time": "2023-04-30T18:10:05.481Z"
   },
   {
    "duration": 899,
    "start_time": "2023-04-30T18:10:05.499Z"
   },
   {
    "duration": 303,
    "start_time": "2023-04-30T18:10:06.399Z"
   },
   {
    "duration": 344,
    "start_time": "2023-04-30T18:10:06.704Z"
   },
   {
    "duration": 217,
    "start_time": "2023-04-30T18:10:07.050Z"
   },
   {
    "duration": 319,
    "start_time": "2023-04-30T18:10:07.269Z"
   },
   {
    "duration": 211,
    "start_time": "2023-04-30T18:10:07.590Z"
   },
   {
    "duration": 346,
    "start_time": "2023-04-30T18:10:07.803Z"
   },
   {
    "duration": 130,
    "start_time": "2023-04-30T18:10:08.151Z"
   },
   {
    "duration": 4,
    "start_time": "2023-04-30T18:10:08.282Z"
   },
   {
    "duration": 129,
    "start_time": "2023-04-30T18:10:08.288Z"
   },
   {
    "duration": 16,
    "start_time": "2023-04-30T18:10:08.419Z"
   },
   {
    "duration": 220,
    "start_time": "2023-04-30T18:10:08.437Z"
   },
   {
    "duration": 157,
    "start_time": "2023-04-30T18:10:08.659Z"
   },
   {
    "duration": 20,
    "start_time": "2023-04-30T18:10:08.817Z"
   },
   {
    "duration": 10,
    "start_time": "2023-04-30T18:10:08.839Z"
   },
   {
    "duration": 42,
    "start_time": "2023-04-30T18:10:08.850Z"
   },
   {
    "duration": 13,
    "start_time": "2023-04-30T18:10:08.894Z"
   },
   {
    "duration": 50,
    "start_time": "2023-04-30T20:11:19.923Z"
   },
   {
    "duration": 42,
    "start_time": "2023-04-30T20:22:21.574Z"
   },
   {
    "duration": 478,
    "start_time": "2023-04-30T20:22:32.165Z"
   },
   {
    "duration": 12,
    "start_time": "2023-04-30T20:22:38.685Z"
   },
   {
    "duration": 10,
    "start_time": "2023-04-30T20:22:40.567Z"
   },
   {
    "duration": 22,
    "start_time": "2023-04-30T20:22:41.859Z"
   },
   {
    "duration": 13,
    "start_time": "2023-04-30T20:23:06.698Z"
   },
   {
    "duration": 11,
    "start_time": "2023-04-30T20:23:15.163Z"
   },
   {
    "duration": 31,
    "start_time": "2023-04-30T20:23:44.831Z"
   },
   {
    "duration": 14,
    "start_time": "2023-04-30T20:23:57.064Z"
   },
   {
    "duration": 12,
    "start_time": "2023-04-30T20:27:47.367Z"
   },
   {
    "duration": 12,
    "start_time": "2023-04-30T20:29:11.321Z"
   },
   {
    "duration": 170,
    "start_time": "2023-04-30T20:30:00.495Z"
   },
   {
    "duration": 13,
    "start_time": "2023-04-30T20:30:10.670Z"
   },
   {
    "duration": 18,
    "start_time": "2023-04-30T20:32:13.192Z"
   },
   {
    "duration": 13,
    "start_time": "2023-04-30T20:32:20.290Z"
   },
   {
    "duration": 13,
    "start_time": "2023-04-30T20:33:00.518Z"
   },
   {
    "duration": 12,
    "start_time": "2023-04-30T20:33:06.927Z"
   },
   {
    "duration": 15,
    "start_time": "2023-04-30T20:33:10.504Z"
   },
   {
    "duration": 26,
    "start_time": "2023-04-30T20:36:26.630Z"
   },
   {
    "duration": 11,
    "start_time": "2023-04-30T20:36:40.107Z"
   },
   {
    "duration": 42,
    "start_time": "2023-04-30T20:37:25.945Z"
   },
   {
    "duration": 146,
    "start_time": "2023-04-30T20:37:35.833Z"
   },
   {
    "duration": 22,
    "start_time": "2023-04-30T20:37:55.716Z"
   },
   {
    "duration": 22,
    "start_time": "2023-04-30T20:39:19.010Z"
   },
   {
    "duration": 25,
    "start_time": "2023-04-30T20:39:27.753Z"
   },
   {
    "duration": 26,
    "start_time": "2023-04-30T20:41:29.987Z"
   },
   {
    "duration": 16,
    "start_time": "2023-04-30T20:43:22.805Z"
   },
   {
    "duration": 14,
    "start_time": "2023-04-30T20:43:37.551Z"
   },
   {
    "duration": 26,
    "start_time": "2023-04-30T20:43:50.215Z"
   },
   {
    "duration": 14,
    "start_time": "2023-04-30T20:44:17.715Z"
   },
   {
    "duration": 36,
    "start_time": "2023-04-30T20:50:04.045Z"
   },
   {
    "duration": 22,
    "start_time": "2023-04-30T20:50:22.941Z"
   },
   {
    "duration": 33,
    "start_time": "2023-04-30T20:50:34.679Z"
   },
   {
    "duration": 21,
    "start_time": "2023-04-30T20:51:10.217Z"
   },
   {
    "duration": 20,
    "start_time": "2023-04-30T20:51:19.358Z"
   },
   {
    "duration": 22,
    "start_time": "2023-04-30T20:53:22.929Z"
   },
   {
    "duration": 77,
    "start_time": "2023-04-30T20:53:31.185Z"
   },
   {
    "duration": 18,
    "start_time": "2023-04-30T20:53:33.780Z"
   },
   {
    "duration": 16,
    "start_time": "2023-04-30T20:53:37.151Z"
   },
   {
    "duration": 32,
    "start_time": "2023-04-30T20:53:43.849Z"
   },
   {
    "duration": 19,
    "start_time": "2023-04-30T20:53:51.051Z"
   },
   {
    "duration": 17,
    "start_time": "2023-04-30T20:57:10.874Z"
   },
   {
    "duration": 54,
    "start_time": "2023-04-30T20:57:44.461Z"
   },
   {
    "duration": 14,
    "start_time": "2023-04-30T20:57:46.018Z"
   },
   {
    "duration": 14,
    "start_time": "2023-04-30T20:57:47.315Z"
   },
   {
    "duration": 30,
    "start_time": "2023-04-30T20:57:49.866Z"
   },
   {
    "duration": 23,
    "start_time": "2023-04-30T20:57:50.925Z"
   },
   {
    "duration": 24,
    "start_time": "2023-04-30T20:58:48.611Z"
   },
   {
    "duration": 25,
    "start_time": "2023-04-30T20:58:49.490Z"
   },
   {
    "duration": 52,
    "start_time": "2023-04-30T20:59:04.204Z"
   },
   {
    "duration": 19,
    "start_time": "2023-04-30T20:59:06.028Z"
   },
   {
    "duration": 13,
    "start_time": "2023-04-30T20:59:08.852Z"
   },
   {
    "duration": 26,
    "start_time": "2023-04-30T20:59:11.366Z"
   },
   {
    "duration": 20,
    "start_time": "2023-04-30T20:59:12.247Z"
   },
   {
    "duration": 28,
    "start_time": "2023-04-30T20:59:40.306Z"
   },
   {
    "duration": 28,
    "start_time": "2023-04-30T21:00:17.877Z"
   },
   {
    "duration": 57,
    "start_time": "2023-04-30T21:00:38.882Z"
   },
   {
    "duration": 16,
    "start_time": "2023-04-30T21:00:40.576Z"
   },
   {
    "duration": 14,
    "start_time": "2023-04-30T21:00:41.979Z"
   },
   {
    "duration": 25,
    "start_time": "2023-04-30T21:00:44.194Z"
   },
   {
    "duration": 23,
    "start_time": "2023-04-30T21:00:59.620Z"
   },
   {
    "duration": 24,
    "start_time": "2023-04-30T21:02:39.542Z"
   },
   {
    "duration": 13,
    "start_time": "2023-04-30T21:03:01.165Z"
   },
   {
    "duration": 11,
    "start_time": "2023-04-30T21:03:16.311Z"
   },
   {
    "duration": 10,
    "start_time": "2023-04-30T21:03:28.077Z"
   },
   {
    "duration": 27,
    "start_time": "2023-04-30T21:03:47.292Z"
   },
   {
    "duration": 12,
    "start_time": "2023-04-30T21:07:29.467Z"
   },
   {
    "duration": 13,
    "start_time": "2023-04-30T21:07:55.180Z"
   },
   {
    "duration": 26,
    "start_time": "2023-04-30T21:08:04.607Z"
   },
   {
    "duration": 26,
    "start_time": "2023-04-30T21:10:12.688Z"
   },
   {
    "duration": 23,
    "start_time": "2023-04-30T21:10:20.880Z"
   },
   {
    "duration": 28,
    "start_time": "2023-04-30T21:10:29.609Z"
   },
   {
    "duration": 32,
    "start_time": "2023-04-30T21:11:04.425Z"
   },
   {
    "duration": 26,
    "start_time": "2023-04-30T21:11:09.989Z"
   },
   {
    "duration": 28,
    "start_time": "2023-04-30T21:11:15.600Z"
   },
   {
    "duration": 26,
    "start_time": "2023-04-30T21:11:31.538Z"
   },
   {
    "duration": 25,
    "start_time": "2023-04-30T21:11:44.283Z"
   },
   {
    "duration": 25,
    "start_time": "2023-04-30T21:11:56.853Z"
   },
   {
    "duration": 33,
    "start_time": "2023-04-30T21:12:17.802Z"
   },
   {
    "duration": 22,
    "start_time": "2023-04-30T21:13:29.137Z"
   },
   {
    "duration": 24,
    "start_time": "2023-04-30T21:15:10.539Z"
   },
   {
    "duration": 21,
    "start_time": "2023-04-30T21:15:20.560Z"
   },
   {
    "duration": 20,
    "start_time": "2023-04-30T21:15:46.105Z"
   },
   {
    "duration": 23,
    "start_time": "2023-04-30T21:16:05.252Z"
   },
   {
    "duration": 21,
    "start_time": "2023-04-30T21:17:31.472Z"
   },
   {
    "duration": 13,
    "start_time": "2023-04-30T21:20:18.901Z"
   },
   {
    "duration": 21,
    "start_time": "2023-04-30T21:20:28.807Z"
   },
   {
    "duration": 13,
    "start_time": "2023-04-30T21:22:25.823Z"
   },
   {
    "duration": 20,
    "start_time": "2023-04-30T21:22:34.899Z"
   },
   {
    "duration": 23,
    "start_time": "2023-04-30T21:22:42.281Z"
   },
   {
    "duration": 21,
    "start_time": "2023-04-30T21:22:51.810Z"
   },
   {
    "duration": 50,
    "start_time": "2023-04-30T21:23:01.043Z"
   },
   {
    "duration": 28,
    "start_time": "2023-04-30T21:23:07.740Z"
   },
   {
    "duration": 6,
    "start_time": "2023-04-30T21:23:27.815Z"
   },
   {
    "duration": 15,
    "start_time": "2023-04-30T21:23:36.384Z"
   },
   {
    "duration": 8,
    "start_time": "2023-04-30T21:24:08.777Z"
   },
   {
    "duration": 22,
    "start_time": "2023-04-30T21:25:53.081Z"
   },
   {
    "duration": 37,
    "start_time": "2023-04-30T21:27:14.413Z"
   },
   {
    "duration": 20,
    "start_time": "2023-04-30T21:27:26.901Z"
   },
   {
    "duration": 26,
    "start_time": "2023-04-30T21:27:47.178Z"
   },
   {
    "duration": 15,
    "start_time": "2023-04-30T21:29:00.555Z"
   },
   {
    "duration": 12,
    "start_time": "2023-04-30T21:29:33.679Z"
   },
   {
    "duration": 19,
    "start_time": "2023-04-30T21:29:41.487Z"
   },
   {
    "duration": 23,
    "start_time": "2023-04-30T21:30:00.581Z"
   },
   {
    "duration": 21,
    "start_time": "2023-04-30T21:30:06.332Z"
   },
   {
    "duration": 29,
    "start_time": "2023-04-30T21:30:33.215Z"
   },
   {
    "duration": 34,
    "start_time": "2023-04-30T21:30:53.878Z"
   },
   {
    "duration": 32,
    "start_time": "2023-04-30T21:32:19.897Z"
   },
   {
    "duration": 26,
    "start_time": "2023-04-30T21:32:36.632Z"
   },
   {
    "duration": 23,
    "start_time": "2023-04-30T21:32:44.519Z"
   },
   {
    "duration": 30,
    "start_time": "2023-04-30T21:35:47.433Z"
   },
   {
    "duration": 9,
    "start_time": "2023-04-30T21:38:21.076Z"
   },
   {
    "duration": 53,
    "start_time": "2023-04-30T21:38:29.141Z"
   },
   {
    "duration": 16,
    "start_time": "2023-04-30T21:38:30.662Z"
   },
   {
    "duration": 21,
    "start_time": "2023-04-30T21:38:31.870Z"
   },
   {
    "duration": 31,
    "start_time": "2023-04-30T21:38:32.959Z"
   },
   {
    "duration": 670,
    "start_time": "2023-04-30T21:38:37.361Z"
   },
   {
    "duration": 294,
    "start_time": "2023-04-30T21:38:39.210Z"
   },
   {
    "duration": 55,
    "start_time": "2023-04-30T21:38:43.296Z"
   },
   {
    "duration": 8,
    "start_time": "2023-04-30T21:39:30.382Z"
   },
   {
    "duration": 5,
    "start_time": "2023-04-30T21:39:58.427Z"
   },
   {
    "duration": 5,
    "start_time": "2023-04-30T21:40:39.424Z"
   },
   {
    "duration": 4,
    "start_time": "2023-04-30T21:40:54.930Z"
   },
   {
    "duration": 4,
    "start_time": "2023-04-30T21:42:11.353Z"
   },
   {
    "duration": 6,
    "start_time": "2023-04-30T21:42:45.781Z"
   },
   {
    "duration": 333,
    "start_time": "2023-04-30T21:44:05.231Z"
   },
   {
    "duration": 6,
    "start_time": "2023-04-30T21:45:01.464Z"
   },
   {
    "duration": 7,
    "start_time": "2023-04-30T21:45:12.920Z"
   },
   {
    "duration": 9,
    "start_time": "2023-04-30T21:46:35.754Z"
   },
   {
    "duration": 12,
    "start_time": "2023-04-30T21:48:39.124Z"
   },
   {
    "duration": 19,
    "start_time": "2023-04-30T21:51:47.890Z"
   },
   {
    "duration": 20,
    "start_time": "2023-04-30T21:52:26.383Z"
   },
   {
    "duration": 18,
    "start_time": "2023-04-30T21:53:21.278Z"
   },
   {
    "duration": 22,
    "start_time": "2023-04-30T21:53:31.038Z"
   },
   {
    "duration": 16,
    "start_time": "2023-04-30T21:53:42.016Z"
   },
   {
    "duration": 18,
    "start_time": "2023-04-30T21:54:11.998Z"
   },
   {
    "duration": 24,
    "start_time": "2023-04-30T21:56:16.062Z"
   },
   {
    "duration": 26,
    "start_time": "2023-04-30T21:56:30.317Z"
   },
   {
    "duration": 22,
    "start_time": "2023-04-30T21:57:30.588Z"
   },
   {
    "duration": 29,
    "start_time": "2023-04-30T22:00:15.689Z"
   },
   {
    "duration": 41,
    "start_time": "2023-04-30T22:00:24.842Z"
   },
   {
    "duration": 7,
    "start_time": "2023-04-30T22:00:32.962Z"
   },
   {
    "duration": 10,
    "start_time": "2023-04-30T22:00:56.038Z"
   },
   {
    "duration": 6,
    "start_time": "2023-04-30T22:01:14.793Z"
   },
   {
    "duration": 11,
    "start_time": "2023-04-30T22:04:32.242Z"
   },
   {
    "duration": 6,
    "start_time": "2023-04-30T22:04:49.509Z"
   },
   {
    "duration": 9,
    "start_time": "2023-04-30T22:04:56.025Z"
   },
   {
    "duration": 6,
    "start_time": "2023-04-30T22:05:14.352Z"
   },
   {
    "duration": 9,
    "start_time": "2023-04-30T22:05:21.040Z"
   },
   {
    "duration": 23,
    "start_time": "2023-04-30T22:05:32.114Z"
   },
   {
    "duration": 31,
    "start_time": "2023-04-30T22:05:49.036Z"
   },
   {
    "duration": 247,
    "start_time": "2023-04-30T22:11:16.869Z"
   },
   {
    "duration": 229,
    "start_time": "2023-04-30T22:11:28.643Z"
   },
   {
    "duration": 241,
    "start_time": "2023-04-30T22:11:49.455Z"
   },
   {
    "duration": 306,
    "start_time": "2023-04-30T22:11:58.975Z"
   },
   {
    "duration": 218,
    "start_time": "2023-04-30T22:12:13.138Z"
   },
   {
    "duration": 237,
    "start_time": "2023-04-30T22:13:02.097Z"
   },
   {
    "duration": 323,
    "start_time": "2023-04-30T22:13:11.091Z"
   },
   {
    "duration": 334,
    "start_time": "2023-04-30T22:14:06.305Z"
   },
   {
    "duration": 329,
    "start_time": "2023-04-30T22:14:27.020Z"
   },
   {
    "duration": 214,
    "start_time": "2023-04-30T22:15:57.943Z"
   },
   {
    "duration": 290,
    "start_time": "2023-04-30T22:17:10.721Z"
   },
   {
    "duration": 286,
    "start_time": "2023-04-30T22:17:26.844Z"
   },
   {
    "duration": 50,
    "start_time": "2023-04-30T22:25:06.712Z"
   },
   {
    "duration": 58,
    "start_time": "2023-04-30T22:29:07.988Z"
   },
   {
    "duration": 447,
    "start_time": "2023-05-01T08:51:35.481Z"
   },
   {
    "duration": 24,
    "start_time": "2023-05-01T08:51:35.931Z"
   },
   {
    "duration": 26,
    "start_time": "2023-05-01T08:51:35.957Z"
   },
   {
    "duration": 288,
    "start_time": "2023-05-01T08:51:35.986Z"
   },
   {
    "duration": 548,
    "start_time": "2023-05-01T08:51:36.276Z"
   },
   {
    "duration": 241,
    "start_time": "2023-05-01T08:51:36.825Z"
   },
   {
    "duration": 22,
    "start_time": "2023-05-01T08:51:37.067Z"
   },
   {
    "duration": 300,
    "start_time": "2023-05-01T08:51:37.090Z"
   },
   {
    "duration": 198,
    "start_time": "2023-05-01T08:51:37.391Z"
   },
   {
    "duration": 318,
    "start_time": "2023-05-01T08:51:37.592Z"
   },
   {
    "duration": 223,
    "start_time": "2023-05-01T08:51:37.911Z"
   },
   {
    "duration": 305,
    "start_time": "2023-05-01T08:51:38.136Z"
   },
   {
    "duration": 145,
    "start_time": "2023-05-01T08:51:38.443Z"
   },
   {
    "duration": 5,
    "start_time": "2023-05-01T08:51:38.590Z"
   },
   {
    "duration": 150,
    "start_time": "2023-05-01T08:51:38.597Z"
   },
   {
    "duration": 4,
    "start_time": "2023-05-01T08:51:38.749Z"
   },
   {
    "duration": 300,
    "start_time": "2023-05-01T08:51:38.755Z"
   },
   {
    "duration": 165,
    "start_time": "2023-05-01T08:51:39.057Z"
   },
   {
    "duration": 10,
    "start_time": "2023-05-01T08:51:39.223Z"
   },
   {
    "duration": 32,
    "start_time": "2023-05-01T08:51:39.234Z"
   },
   {
    "duration": 25,
    "start_time": "2023-05-01T08:51:39.267Z"
   },
   {
    "duration": 13,
    "start_time": "2023-05-01T08:51:39.294Z"
   },
   {
    "duration": 419,
    "start_time": "2023-05-01T09:44:57.402Z"
   },
   {
    "duration": 16,
    "start_time": "2023-05-01T09:44:57.822Z"
   },
   {
    "duration": 11,
    "start_time": "2023-05-01T09:44:57.839Z"
   },
   {
    "duration": 274,
    "start_time": "2023-05-01T09:44:57.852Z"
   },
   {
    "duration": 566,
    "start_time": "2023-05-01T09:44:58.127Z"
   },
   {
    "duration": 235,
    "start_time": "2023-05-01T09:44:58.695Z"
   },
   {
    "duration": 18,
    "start_time": "2023-05-01T09:44:58.931Z"
   },
   {
    "duration": 274,
    "start_time": "2023-05-01T09:44:58.950Z"
   },
   {
    "duration": 200,
    "start_time": "2023-05-01T09:44:59.226Z"
   },
   {
    "duration": 285,
    "start_time": "2023-05-01T09:44:59.428Z"
   },
   {
    "duration": 206,
    "start_time": "2023-05-01T09:44:59.714Z"
   },
   {
    "duration": 269,
    "start_time": "2023-05-01T09:44:59.921Z"
   },
   {
    "duration": 106,
    "start_time": "2023-05-01T09:45:00.192Z"
   },
   {
    "duration": 4,
    "start_time": "2023-05-01T09:45:00.300Z"
   },
   {
    "duration": 128,
    "start_time": "2023-05-01T09:45:00.305Z"
   },
   {
    "duration": 3,
    "start_time": "2023-05-01T09:45:00.435Z"
   },
   {
    "duration": 244,
    "start_time": "2023-05-01T09:45:00.440Z"
   },
   {
    "duration": 167,
    "start_time": "2023-05-01T09:45:00.685Z"
   },
   {
    "duration": 18,
    "start_time": "2023-05-01T09:45:00.854Z"
   },
   {
    "duration": 26,
    "start_time": "2023-05-01T09:45:00.873Z"
   },
   {
    "duration": 61,
    "start_time": "2023-05-01T09:45:00.901Z"
   },
   {
    "duration": 13,
    "start_time": "2023-05-01T09:45:00.964Z"
   },
   {
    "duration": 508,
    "start_time": "2023-05-01T09:57:39.922Z"
   },
   {
    "duration": 21,
    "start_time": "2023-05-01T09:57:40.432Z"
   },
   {
    "duration": 14,
    "start_time": "2023-05-01T09:57:40.455Z"
   },
   {
    "duration": 466,
    "start_time": "2023-05-01T09:57:40.472Z"
   },
   {
    "duration": 664,
    "start_time": "2023-05-01T09:57:40.940Z"
   },
   {
    "duration": 301,
    "start_time": "2023-05-01T09:57:41.606Z"
   },
   {
    "duration": 24,
    "start_time": "2023-05-01T09:57:41.908Z"
   },
   {
    "duration": 342,
    "start_time": "2023-05-01T09:57:41.934Z"
   },
   {
    "duration": 248,
    "start_time": "2023-05-01T09:57:42.278Z"
   },
   {
    "duration": 407,
    "start_time": "2023-05-01T09:57:42.528Z"
   },
   {
    "duration": 336,
    "start_time": "2023-05-01T09:57:42.936Z"
   },
   {
    "duration": 396,
    "start_time": "2023-05-01T09:57:43.275Z"
   },
   {
    "duration": 139,
    "start_time": "2023-05-01T09:57:43.674Z"
   },
   {
    "duration": 4,
    "start_time": "2023-05-01T09:57:43.815Z"
   },
   {
    "duration": 175,
    "start_time": "2023-05-01T09:57:43.821Z"
   },
   {
    "duration": 5,
    "start_time": "2023-05-01T09:57:43.998Z"
   },
   {
    "duration": 310,
    "start_time": "2023-05-01T09:57:44.012Z"
   },
   {
    "duration": 189,
    "start_time": "2023-05-01T09:57:44.324Z"
   },
   {
    "duration": 12,
    "start_time": "2023-05-01T09:57:44.515Z"
   },
   {
    "duration": 9,
    "start_time": "2023-05-01T09:57:44.529Z"
   },
   {
    "duration": 32,
    "start_time": "2023-05-01T09:57:44.540Z"
   },
   {
    "duration": 44,
    "start_time": "2023-05-01T09:57:44.574Z"
   },
   {
    "duration": 98,
    "start_time": "2023-05-01T10:01:37.164Z"
   },
   {
    "duration": 502,
    "start_time": "2023-05-01T10:01:47.514Z"
   },
   {
    "duration": 19,
    "start_time": "2023-05-01T10:01:48.018Z"
   },
   {
    "duration": 15,
    "start_time": "2023-05-01T10:01:48.038Z"
   },
   {
    "duration": 304,
    "start_time": "2023-05-01T10:01:48.055Z"
   },
   {
    "duration": 672,
    "start_time": "2023-05-01T10:01:48.363Z"
   },
   {
    "duration": 336,
    "start_time": "2023-05-01T10:01:49.038Z"
   },
   {
    "duration": 103,
    "start_time": "2023-05-01T10:01:49.376Z"
   },
   {
    "duration": 0,
    "start_time": "2023-05-01T10:01:49.481Z"
   },
   {
    "duration": 0,
    "start_time": "2023-05-01T10:01:49.482Z"
   },
   {
    "duration": 0,
    "start_time": "2023-05-01T10:01:49.483Z"
   },
   {
    "duration": 0,
    "start_time": "2023-05-01T10:01:49.484Z"
   },
   {
    "duration": 0,
    "start_time": "2023-05-01T10:01:49.485Z"
   },
   {
    "duration": 0,
    "start_time": "2023-05-01T10:01:49.486Z"
   },
   {
    "duration": 0,
    "start_time": "2023-05-01T10:01:49.486Z"
   },
   {
    "duration": 0,
    "start_time": "2023-05-01T10:01:49.488Z"
   },
   {
    "duration": 0,
    "start_time": "2023-05-01T10:01:49.489Z"
   },
   {
    "duration": 0,
    "start_time": "2023-05-01T10:01:49.490Z"
   },
   {
    "duration": 0,
    "start_time": "2023-05-01T10:01:49.513Z"
   },
   {
    "duration": 0,
    "start_time": "2023-05-01T10:01:49.514Z"
   },
   {
    "duration": 0,
    "start_time": "2023-05-01T10:01:49.515Z"
   },
   {
    "duration": 0,
    "start_time": "2023-05-01T10:01:49.516Z"
   },
   {
    "duration": 0,
    "start_time": "2023-05-01T10:01:49.517Z"
   },
   {
    "duration": 0,
    "start_time": "2023-05-01T10:01:49.518Z"
   },
   {
    "duration": 4,
    "start_time": "2023-05-01T10:02:04.516Z"
   },
   {
    "duration": 4,
    "start_time": "2023-05-01T10:02:15.512Z"
   },
   {
    "duration": 3,
    "start_time": "2023-05-01T10:02:54.919Z"
   },
   {
    "duration": 4,
    "start_time": "2023-05-01T10:03:10.056Z"
   },
   {
    "duration": 21,
    "start_time": "2023-05-01T10:04:11.304Z"
   },
   {
    "duration": 4,
    "start_time": "2023-05-01T10:04:13.705Z"
   },
   {
    "duration": 14,
    "start_time": "2023-05-01T10:05:36.947Z"
   },
   {
    "duration": 47,
    "start_time": "2023-05-01T10:07:08.436Z"
   },
   {
    "duration": 43,
    "start_time": "2023-05-01T10:07:13.238Z"
   },
   {
    "duration": 139,
    "start_time": "2023-05-01T10:07:19.065Z"
   },
   {
    "duration": 114,
    "start_time": "2023-05-01T10:08:02.144Z"
   },
   {
    "duration": 7,
    "start_time": "2023-05-01T10:09:05.015Z"
   },
   {
    "duration": 7,
    "start_time": "2023-05-01T10:09:37.608Z"
   },
   {
    "duration": 12,
    "start_time": "2023-05-01T10:09:57.709Z"
   },
   {
    "duration": 8,
    "start_time": "2023-05-01T10:10:07.204Z"
   },
   {
    "duration": 7,
    "start_time": "2023-05-01T10:10:38.808Z"
   },
   {
    "duration": 14,
    "start_time": "2023-05-01T10:11:02.942Z"
   },
   {
    "duration": 6,
    "start_time": "2023-05-01T10:11:40.651Z"
   },
   {
    "duration": 7,
    "start_time": "2023-05-01T10:11:50.804Z"
   },
   {
    "duration": 8,
    "start_time": "2023-05-01T10:12:41.724Z"
   },
   {
    "duration": 29,
    "start_time": "2023-05-01T10:13:36.405Z"
   },
   {
    "duration": 22,
    "start_time": "2023-05-01T10:13:43.853Z"
   },
   {
    "duration": 47,
    "start_time": "2023-05-01T10:13:57.709Z"
   },
   {
    "duration": 21,
    "start_time": "2023-05-01T10:14:03.639Z"
   },
   {
    "duration": 6,
    "start_time": "2023-05-01T10:15:10.808Z"
   },
   {
    "duration": 365,
    "start_time": "2023-05-01T10:15:51.404Z"
   },
   {
    "duration": 259,
    "start_time": "2023-05-01T10:15:55.228Z"
   },
   {
    "duration": 344,
    "start_time": "2023-05-01T10:15:58.549Z"
   },
   {
    "duration": 242,
    "start_time": "2023-05-01T10:16:02.226Z"
   },
   {
    "duration": 339,
    "start_time": "2023-05-01T10:16:07.949Z"
   },
   {
    "duration": 126,
    "start_time": "2023-05-01T10:16:16.223Z"
   },
   {
    "duration": 166,
    "start_time": "2023-05-01T10:16:29.307Z"
   },
   {
    "duration": 4,
    "start_time": "2023-05-01T10:16:41.961Z"
   },
   {
    "duration": 203,
    "start_time": "2023-05-01T10:16:52.125Z"
   },
   {
    "duration": 6,
    "start_time": "2023-05-01T10:16:56.549Z"
   },
   {
    "duration": 269,
    "start_time": "2023-05-01T10:17:00.805Z"
   },
   {
    "duration": 335,
    "start_time": "2023-05-01T10:17:04.809Z"
   },
   {
    "duration": 11,
    "start_time": "2023-05-01T10:17:07.631Z"
   },
   {
    "duration": 10,
    "start_time": "2023-05-01T10:17:09.413Z"
   },
   {
    "duration": 29,
    "start_time": "2023-05-01T10:17:12.361Z"
   },
   {
    "duration": 15,
    "start_time": "2023-05-01T10:17:15.136Z"
   },
   {
    "duration": 567,
    "start_time": "2023-07-05T12:48:36.619Z"
   },
   {
    "duration": 25,
    "start_time": "2023-07-05T12:48:37.188Z"
   },
   {
    "duration": 15,
    "start_time": "2023-07-05T12:48:37.215Z"
   },
   {
    "duration": 590,
    "start_time": "2023-07-05T12:48:37.232Z"
   },
   {
    "duration": 789,
    "start_time": "2023-07-05T12:48:37.824Z"
   },
   {
    "duration": 294,
    "start_time": "2023-07-05T12:48:38.616Z"
   },
   {
    "duration": 24,
    "start_time": "2023-07-05T12:48:38.912Z"
   },
   {
    "duration": 22,
    "start_time": "2023-07-05T12:48:38.937Z"
   },
   {
    "duration": 344,
    "start_time": "2023-07-05T12:48:38.961Z"
   },
   {
    "duration": 253,
    "start_time": "2023-07-05T12:48:39.308Z"
   },
   {
    "duration": 387,
    "start_time": "2023-07-05T12:48:39.563Z"
   },
   {
    "duration": 249,
    "start_time": "2023-07-05T12:48:39.951Z"
   },
   {
    "duration": 335,
    "start_time": "2023-07-05T12:48:40.201Z"
   },
   {
    "duration": 130,
    "start_time": "2023-07-05T12:48:40.538Z"
   },
   {
    "duration": 4,
    "start_time": "2023-07-05T12:48:40.670Z"
   },
   {
    "duration": 182,
    "start_time": "2023-07-05T12:48:40.676Z"
   },
   {
    "duration": 6,
    "start_time": "2023-07-05T12:48:40.860Z"
   },
   {
    "duration": 349,
    "start_time": "2023-07-05T12:48:40.868Z"
   },
   {
    "duration": 172,
    "start_time": "2023-07-05T12:48:41.218Z"
   },
   {
    "duration": 14,
    "start_time": "2023-07-05T12:48:41.392Z"
   },
   {
    "duration": 11,
    "start_time": "2023-07-05T12:48:41.408Z"
   },
   {
    "duration": 57,
    "start_time": "2023-07-05T12:48:41.421Z"
   },
   {
    "duration": 20,
    "start_time": "2023-07-05T12:48:41.480Z"
   }
  ],
  "kernelspec": {
   "display_name": "Python 3 (ipykernel)",
   "language": "python",
   "name": "python3"
  },
  "language_info": {
   "codemirror_mode": {
    "name": "ipython",
    "version": 3
   },
   "file_extension": ".py",
   "mimetype": "text/x-python",
   "name": "python",
   "nbconvert_exporter": "python",
   "pygments_lexer": "ipython3",
   "version": "3.9.15"
  },
  "toc": {
   "base_numbering": 1,
   "nav_menu": {},
   "number_sections": true,
   "sideBar": true,
   "skip_h1_title": false,
   "title_cell": "Table of Contents",
   "title_sidebar": "Contents",
   "toc_cell": false,
   "toc_position": {
    "height": "calc(100% - 180px)",
    "left": "10px",
    "top": "150px",
    "width": "487.977px"
   },
   "toc_section_display": true,
   "toc_window_display": false
  }
 },
 "nbformat": 4,
 "nbformat_minor": 5
}
